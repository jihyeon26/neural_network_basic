{
  "cells": [
    {
      "cell_type": "code",
      "execution_count": null,
      "metadata": {
        "gather": {
          "logged": 1720146179412
        }
      },
      "outputs": [],
      "source": [
        "\n",
        "# coding: utf-8\n",
        "import numpy as np\n",
        "import matplotlib.pyplot as plt\n",
        "\n",
        "def sigmoid(x):\n",
        "    return 1 / (1 + np.exp(-x))\n",
        "\n",
        "def ReLU(x):\n",
        "    return np.maximum(0, x)\n",
        "\n",
        "def tanh(x):\n",
        "    return np.tanh(x)\n",
        "\n",
        "input_data= np.random.randn(1000,100)\n",
        "node_num = 100\n",
        "hidden_layer_size = 5\n",
        "activations = {}\n",
        "\n",
        "x = input_data\n",
        "\n",
        "for i in range(hidden_layer_size): \n",
        "    if i != 0:\n",
        "        x = activations[i-1]\n",
        "\n",
        "    #초기값 바꿔가며 실행\n",
        "    #w = np.random.randn(node_num, node_num) * 1\n",
        "    #w = np.random.randn(node_num, node_num) * 0.01\n",
        "    #w = np.random.randn(node_num, node_num) * np.sqrt(1.0 / node_num)\n",
        "    w = np.random.randn(node_num, node_num) * np.sqrt(2.0 / node_num)\n",
        "\n",
        "    a= np.dot(x, w)\n",
        "\n",
        "    #활성화 함수 바꿔가며 실행\n",
        "    #z= sigmoid(a)\n",
        "    z = ReLU(a)\n",
        "    #z = tanh(a)\n",
        "\n",
        "    activations[i] = z\n",
        "\n",
        "#히스토그램 그리기\n",
        "for i, a in activations.items():\n",
        "    plt.subplot(1, len(activations), i+1)\n",
        "    plt.title(str(i+1)+'-layer')\n",
        "    if i != 0: plt.yticks([], [])\n",
        "    #plt.xlim(0.1, 1)\n",
        "    #plt.ylim(0, 7000)\n",
        "    plt.hist(a.flatten(), 30, range=(0,1))\n",
        "plt.show()"
      ]
    }
  ],
  "metadata": {
    "kernel_info": {
      "name": "python310-sdkv2"
    },
    "kernelspec": {
      "display_name": "Python 3.10 - SDK v2",
      "language": "python",
      "name": "python310-sdkv2"
    },
    "language_info": {
      "codemirror_mode": {
        "name": "ipython",
        "version": 3
      },
      "file_extension": ".py",
      "mimetype": "text/x-python",
      "name": "python",
      "nbconvert_exporter": "python",
      "pygments_lexer": "ipython3",
      "version": "3.10.14"
    },
    "microsoft": {
      "host": {
        "AzureML": {
          "notebookHasBeenCompleted": true
        }
      }
    },
    "nteract": {
      "version": "nteract-front-end@1.0.0"
    }
  },
  "nbformat": 4,
  "nbformat_minor": 2
}
