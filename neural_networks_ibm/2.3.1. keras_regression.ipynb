{
 "cells": [
  {
   "cell_type": "code",
   "execution_count": 1,
   "id": "3b206f04",
   "metadata": {},
   "outputs": [],
   "source": [
    "# %pip install tensorflow_cpu==2.18.0"
   ]
  },
  {
   "cell_type": "code",
   "execution_count": 2,
   "id": "1e276b12",
   "metadata": {},
   "outputs": [],
   "source": [
    "# %pip install keras\n"
   ]
  },
  {
   "cell_type": "markdown",
   "id": "5b425e76",
   "metadata": {},
   "source": [
    "## Regression"
   ]
  },
  {
   "cell_type": "code",
   "execution_count": 3,
   "id": "d030b661",
   "metadata": {},
   "outputs": [],
   "source": [
    "import os\n",
    "os.environ['TF_ENABLE_ONEDNN_OPTS'] = '0'\n",
    "os.environ['TF_CPP_MIN_LOG_LEVEL'] = '2'"
   ]
  },
  {
   "cell_type": "code",
   "execution_count": 4,
   "id": "b645ba84",
   "metadata": {},
   "outputs": [
    {
     "name": "stdout",
     "output_type": "stream",
     "text": [
      "2.18.0\n"
     ]
    }
   ],
   "source": [
    "import tensorflow as tf\n",
    "print(tf.__version__)\n"
   ]
  },
  {
   "cell_type": "code",
   "execution_count": 5,
   "id": "71810f88",
   "metadata": {},
   "outputs": [],
   "source": [
    "import pandas as pd\n",
    "import numpy as np\n",
    "import keras\n",
    "\n",
    "import warnings\n",
    "warnings.simplefilter('ignore', FutureWarning)"
   ]
  },
  {
   "cell_type": "code",
   "execution_count": 6,
   "id": "13aa8b1c",
   "metadata": {},
   "outputs": [
    {
     "data": {
      "text/html": [
       "<div>\n",
       "<style scoped>\n",
       "    .dataframe tbody tr th:only-of-type {\n",
       "        vertical-align: middle;\n",
       "    }\n",
       "\n",
       "    .dataframe tbody tr th {\n",
       "        vertical-align: top;\n",
       "    }\n",
       "\n",
       "    .dataframe thead th {\n",
       "        text-align: right;\n",
       "    }\n",
       "</style>\n",
       "<table border=\"1\" class=\"dataframe\">\n",
       "  <thead>\n",
       "    <tr style=\"text-align: right;\">\n",
       "      <th></th>\n",
       "      <th>Cement</th>\n",
       "      <th>Blast Furnace Slag</th>\n",
       "      <th>Fly Ash</th>\n",
       "      <th>Water</th>\n",
       "      <th>Superplasticizer</th>\n",
       "      <th>Coarse Aggregate</th>\n",
       "      <th>Fine Aggregate</th>\n",
       "      <th>Age</th>\n",
       "      <th>Strength</th>\n",
       "    </tr>\n",
       "  </thead>\n",
       "  <tbody>\n",
       "    <tr>\n",
       "      <th>0</th>\n",
       "      <td>540.0</td>\n",
       "      <td>0.0</td>\n",
       "      <td>0.0</td>\n",
       "      <td>162.0</td>\n",
       "      <td>2.5</td>\n",
       "      <td>1040.0</td>\n",
       "      <td>676.0</td>\n",
       "      <td>28</td>\n",
       "      <td>79.99</td>\n",
       "    </tr>\n",
       "    <tr>\n",
       "      <th>1</th>\n",
       "      <td>540.0</td>\n",
       "      <td>0.0</td>\n",
       "      <td>0.0</td>\n",
       "      <td>162.0</td>\n",
       "      <td>2.5</td>\n",
       "      <td>1055.0</td>\n",
       "      <td>676.0</td>\n",
       "      <td>28</td>\n",
       "      <td>61.89</td>\n",
       "    </tr>\n",
       "    <tr>\n",
       "      <th>2</th>\n",
       "      <td>332.5</td>\n",
       "      <td>142.5</td>\n",
       "      <td>0.0</td>\n",
       "      <td>228.0</td>\n",
       "      <td>0.0</td>\n",
       "      <td>932.0</td>\n",
       "      <td>594.0</td>\n",
       "      <td>270</td>\n",
       "      <td>40.27</td>\n",
       "    </tr>\n",
       "    <tr>\n",
       "      <th>3</th>\n",
       "      <td>332.5</td>\n",
       "      <td>142.5</td>\n",
       "      <td>0.0</td>\n",
       "      <td>228.0</td>\n",
       "      <td>0.0</td>\n",
       "      <td>932.0</td>\n",
       "      <td>594.0</td>\n",
       "      <td>365</td>\n",
       "      <td>41.05</td>\n",
       "    </tr>\n",
       "    <tr>\n",
       "      <th>4</th>\n",
       "      <td>198.6</td>\n",
       "      <td>132.4</td>\n",
       "      <td>0.0</td>\n",
       "      <td>192.0</td>\n",
       "      <td>0.0</td>\n",
       "      <td>978.4</td>\n",
       "      <td>825.5</td>\n",
       "      <td>360</td>\n",
       "      <td>44.30</td>\n",
       "    </tr>\n",
       "  </tbody>\n",
       "</table>\n",
       "</div>"
      ],
      "text/plain": [
       "   Cement  Blast Furnace Slag  Fly Ash  Water  Superplasticizer  \\\n",
       "0   540.0                 0.0      0.0  162.0               2.5   \n",
       "1   540.0                 0.0      0.0  162.0               2.5   \n",
       "2   332.5               142.5      0.0  228.0               0.0   \n",
       "3   332.5               142.5      0.0  228.0               0.0   \n",
       "4   198.6               132.4      0.0  192.0               0.0   \n",
       "\n",
       "   Coarse Aggregate  Fine Aggregate  Age  Strength  \n",
       "0            1040.0           676.0   28     79.99  \n",
       "1            1055.0           676.0   28     61.89  \n",
       "2             932.0           594.0  270     40.27  \n",
       "3             932.0           594.0  365     41.05  \n",
       "4             978.4           825.5  360     44.30  "
      ]
     },
     "execution_count": 6,
     "metadata": {},
     "output_type": "execute_result"
    }
   ],
   "source": [
    "filepath='https://s3-api.us-geo.objectstorage.softlayer.net/cf-courses-data/CognitiveClass/DL0101EN/labs/data/concrete_data.csv'\n",
    "concrete_data = pd.read_csv(filepath)\n",
    "\n",
    "concrete_data.head()"
   ]
  },
  {
   "cell_type": "code",
   "execution_count": 7,
   "id": "614d1b66",
   "metadata": {},
   "outputs": [
    {
     "data": {
      "text/plain": [
       "(1030, 9)"
      ]
     },
     "execution_count": 7,
     "metadata": {},
     "output_type": "execute_result"
    }
   ],
   "source": [
    "concrete_data.shape"
   ]
  },
  {
   "cell_type": "code",
   "execution_count": 8,
   "id": "d9a5fe69",
   "metadata": {},
   "outputs": [
    {
     "data": {
      "text/html": [
       "<div>\n",
       "<style scoped>\n",
       "    .dataframe tbody tr th:only-of-type {\n",
       "        vertical-align: middle;\n",
       "    }\n",
       "\n",
       "    .dataframe tbody tr th {\n",
       "        vertical-align: top;\n",
       "    }\n",
       "\n",
       "    .dataframe thead th {\n",
       "        text-align: right;\n",
       "    }\n",
       "</style>\n",
       "<table border=\"1\" class=\"dataframe\">\n",
       "  <thead>\n",
       "    <tr style=\"text-align: right;\">\n",
       "      <th></th>\n",
       "      <th>Cement</th>\n",
       "      <th>Blast Furnace Slag</th>\n",
       "      <th>Fly Ash</th>\n",
       "      <th>Water</th>\n",
       "      <th>Superplasticizer</th>\n",
       "      <th>Coarse Aggregate</th>\n",
       "      <th>Fine Aggregate</th>\n",
       "      <th>Age</th>\n",
       "      <th>Strength</th>\n",
       "    </tr>\n",
       "  </thead>\n",
       "  <tbody>\n",
       "    <tr>\n",
       "      <th>count</th>\n",
       "      <td>1030.000000</td>\n",
       "      <td>1030.000000</td>\n",
       "      <td>1030.000000</td>\n",
       "      <td>1030.000000</td>\n",
       "      <td>1030.000000</td>\n",
       "      <td>1030.000000</td>\n",
       "      <td>1030.000000</td>\n",
       "      <td>1030.000000</td>\n",
       "      <td>1030.000000</td>\n",
       "    </tr>\n",
       "    <tr>\n",
       "      <th>mean</th>\n",
       "      <td>281.167864</td>\n",
       "      <td>73.895825</td>\n",
       "      <td>54.188350</td>\n",
       "      <td>181.567282</td>\n",
       "      <td>6.204660</td>\n",
       "      <td>972.918932</td>\n",
       "      <td>773.580485</td>\n",
       "      <td>45.662136</td>\n",
       "      <td>35.817961</td>\n",
       "    </tr>\n",
       "    <tr>\n",
       "      <th>std</th>\n",
       "      <td>104.506364</td>\n",
       "      <td>86.279342</td>\n",
       "      <td>63.997004</td>\n",
       "      <td>21.354219</td>\n",
       "      <td>5.973841</td>\n",
       "      <td>77.753954</td>\n",
       "      <td>80.175980</td>\n",
       "      <td>63.169912</td>\n",
       "      <td>16.705742</td>\n",
       "    </tr>\n",
       "    <tr>\n",
       "      <th>min</th>\n",
       "      <td>102.000000</td>\n",
       "      <td>0.000000</td>\n",
       "      <td>0.000000</td>\n",
       "      <td>121.800000</td>\n",
       "      <td>0.000000</td>\n",
       "      <td>801.000000</td>\n",
       "      <td>594.000000</td>\n",
       "      <td>1.000000</td>\n",
       "      <td>2.330000</td>\n",
       "    </tr>\n",
       "    <tr>\n",
       "      <th>25%</th>\n",
       "      <td>192.375000</td>\n",
       "      <td>0.000000</td>\n",
       "      <td>0.000000</td>\n",
       "      <td>164.900000</td>\n",
       "      <td>0.000000</td>\n",
       "      <td>932.000000</td>\n",
       "      <td>730.950000</td>\n",
       "      <td>7.000000</td>\n",
       "      <td>23.710000</td>\n",
       "    </tr>\n",
       "    <tr>\n",
       "      <th>50%</th>\n",
       "      <td>272.900000</td>\n",
       "      <td>22.000000</td>\n",
       "      <td>0.000000</td>\n",
       "      <td>185.000000</td>\n",
       "      <td>6.400000</td>\n",
       "      <td>968.000000</td>\n",
       "      <td>779.500000</td>\n",
       "      <td>28.000000</td>\n",
       "      <td>34.445000</td>\n",
       "    </tr>\n",
       "    <tr>\n",
       "      <th>75%</th>\n",
       "      <td>350.000000</td>\n",
       "      <td>142.950000</td>\n",
       "      <td>118.300000</td>\n",
       "      <td>192.000000</td>\n",
       "      <td>10.200000</td>\n",
       "      <td>1029.400000</td>\n",
       "      <td>824.000000</td>\n",
       "      <td>56.000000</td>\n",
       "      <td>46.135000</td>\n",
       "    </tr>\n",
       "    <tr>\n",
       "      <th>max</th>\n",
       "      <td>540.000000</td>\n",
       "      <td>359.400000</td>\n",
       "      <td>200.100000</td>\n",
       "      <td>247.000000</td>\n",
       "      <td>32.200000</td>\n",
       "      <td>1145.000000</td>\n",
       "      <td>992.600000</td>\n",
       "      <td>365.000000</td>\n",
       "      <td>82.600000</td>\n",
       "    </tr>\n",
       "  </tbody>\n",
       "</table>\n",
       "</div>"
      ],
      "text/plain": [
       "            Cement  Blast Furnace Slag      Fly Ash        Water  \\\n",
       "count  1030.000000         1030.000000  1030.000000  1030.000000   \n",
       "mean    281.167864           73.895825    54.188350   181.567282   \n",
       "std     104.506364           86.279342    63.997004    21.354219   \n",
       "min     102.000000            0.000000     0.000000   121.800000   \n",
       "25%     192.375000            0.000000     0.000000   164.900000   \n",
       "50%     272.900000           22.000000     0.000000   185.000000   \n",
       "75%     350.000000          142.950000   118.300000   192.000000   \n",
       "max     540.000000          359.400000   200.100000   247.000000   \n",
       "\n",
       "       Superplasticizer  Coarse Aggregate  Fine Aggregate          Age  \\\n",
       "count       1030.000000       1030.000000     1030.000000  1030.000000   \n",
       "mean           6.204660        972.918932      773.580485    45.662136   \n",
       "std            5.973841         77.753954       80.175980    63.169912   \n",
       "min            0.000000        801.000000      594.000000     1.000000   \n",
       "25%            0.000000        932.000000      730.950000     7.000000   \n",
       "50%            6.400000        968.000000      779.500000    28.000000   \n",
       "75%           10.200000       1029.400000      824.000000    56.000000   \n",
       "max           32.200000       1145.000000      992.600000   365.000000   \n",
       "\n",
       "          Strength  \n",
       "count  1030.000000  \n",
       "mean     35.817961  \n",
       "std      16.705742  \n",
       "min       2.330000  \n",
       "25%      23.710000  \n",
       "50%      34.445000  \n",
       "75%      46.135000  \n",
       "max      82.600000  "
      ]
     },
     "execution_count": 8,
     "metadata": {},
     "output_type": "execute_result"
    }
   ],
   "source": [
    "concrete_data.describe()"
   ]
  },
  {
   "cell_type": "code",
   "execution_count": 9,
   "id": "f468596c",
   "metadata": {},
   "outputs": [
    {
     "data": {
      "text/plain": [
       "Cement                0\n",
       "Blast Furnace Slag    0\n",
       "Fly Ash               0\n",
       "Water                 0\n",
       "Superplasticizer      0\n",
       "Coarse Aggregate      0\n",
       "Fine Aggregate        0\n",
       "Age                   0\n",
       "Strength              0\n",
       "dtype: int64"
      ]
     },
     "execution_count": 9,
     "metadata": {},
     "output_type": "execute_result"
    }
   ],
   "source": [
    "concrete_data.isnull().sum()"
   ]
  },
  {
   "cell_type": "code",
   "execution_count": 10,
   "id": "f13ae1e9",
   "metadata": {},
   "outputs": [],
   "source": [
    "concrete_data_columns = concrete_data.columns"
   ]
  },
  {
   "cell_type": "code",
   "execution_count": 11,
   "id": "f5ec9bdd",
   "metadata": {},
   "outputs": [],
   "source": [
    "predictors = concrete_data[concrete_data_columns[concrete_data_columns != 'Strength']] # all columns except Strength\n",
    "target = concrete_data['Strength'] # Strength column"
   ]
  },
  {
   "cell_type": "code",
   "execution_count": 12,
   "id": "5c5fd857",
   "metadata": {},
   "outputs": [
    {
     "data": {
      "text/html": [
       "<div>\n",
       "<style scoped>\n",
       "    .dataframe tbody tr th:only-of-type {\n",
       "        vertical-align: middle;\n",
       "    }\n",
       "\n",
       "    .dataframe tbody tr th {\n",
       "        vertical-align: top;\n",
       "    }\n",
       "\n",
       "    .dataframe thead th {\n",
       "        text-align: right;\n",
       "    }\n",
       "</style>\n",
       "<table border=\"1\" class=\"dataframe\">\n",
       "  <thead>\n",
       "    <tr style=\"text-align: right;\">\n",
       "      <th></th>\n",
       "      <th>Cement</th>\n",
       "      <th>Blast Furnace Slag</th>\n",
       "      <th>Fly Ash</th>\n",
       "      <th>Water</th>\n",
       "      <th>Superplasticizer</th>\n",
       "      <th>Coarse Aggregate</th>\n",
       "      <th>Fine Aggregate</th>\n",
       "      <th>Age</th>\n",
       "    </tr>\n",
       "  </thead>\n",
       "  <tbody>\n",
       "    <tr>\n",
       "      <th>0</th>\n",
       "      <td>540.0</td>\n",
       "      <td>0.0</td>\n",
       "      <td>0.0</td>\n",
       "      <td>162.0</td>\n",
       "      <td>2.5</td>\n",
       "      <td>1040.0</td>\n",
       "      <td>676.0</td>\n",
       "      <td>28</td>\n",
       "    </tr>\n",
       "    <tr>\n",
       "      <th>1</th>\n",
       "      <td>540.0</td>\n",
       "      <td>0.0</td>\n",
       "      <td>0.0</td>\n",
       "      <td>162.0</td>\n",
       "      <td>2.5</td>\n",
       "      <td>1055.0</td>\n",
       "      <td>676.0</td>\n",
       "      <td>28</td>\n",
       "    </tr>\n",
       "    <tr>\n",
       "      <th>2</th>\n",
       "      <td>332.5</td>\n",
       "      <td>142.5</td>\n",
       "      <td>0.0</td>\n",
       "      <td>228.0</td>\n",
       "      <td>0.0</td>\n",
       "      <td>932.0</td>\n",
       "      <td>594.0</td>\n",
       "      <td>270</td>\n",
       "    </tr>\n",
       "    <tr>\n",
       "      <th>3</th>\n",
       "      <td>332.5</td>\n",
       "      <td>142.5</td>\n",
       "      <td>0.0</td>\n",
       "      <td>228.0</td>\n",
       "      <td>0.0</td>\n",
       "      <td>932.0</td>\n",
       "      <td>594.0</td>\n",
       "      <td>365</td>\n",
       "    </tr>\n",
       "    <tr>\n",
       "      <th>4</th>\n",
       "      <td>198.6</td>\n",
       "      <td>132.4</td>\n",
       "      <td>0.0</td>\n",
       "      <td>192.0</td>\n",
       "      <td>0.0</td>\n",
       "      <td>978.4</td>\n",
       "      <td>825.5</td>\n",
       "      <td>360</td>\n",
       "    </tr>\n",
       "  </tbody>\n",
       "</table>\n",
       "</div>"
      ],
      "text/plain": [
       "   Cement  Blast Furnace Slag  Fly Ash  Water  Superplasticizer  \\\n",
       "0   540.0                 0.0      0.0  162.0               2.5   \n",
       "1   540.0                 0.0      0.0  162.0               2.5   \n",
       "2   332.5               142.5      0.0  228.0               0.0   \n",
       "3   332.5               142.5      0.0  228.0               0.0   \n",
       "4   198.6               132.4      0.0  192.0               0.0   \n",
       "\n",
       "   Coarse Aggregate  Fine Aggregate  Age  \n",
       "0            1040.0           676.0   28  \n",
       "1            1055.0           676.0   28  \n",
       "2             932.0           594.0  270  \n",
       "3             932.0           594.0  365  \n",
       "4             978.4           825.5  360  "
      ]
     },
     "execution_count": 12,
     "metadata": {},
     "output_type": "execute_result"
    }
   ],
   "source": [
    "predictors.head()"
   ]
  },
  {
   "cell_type": "code",
   "execution_count": 13,
   "id": "bb1b6112",
   "metadata": {},
   "outputs": [
    {
     "data": {
      "text/html": [
       "<div>\n",
       "<style scoped>\n",
       "    .dataframe tbody tr th:only-of-type {\n",
       "        vertical-align: middle;\n",
       "    }\n",
       "\n",
       "    .dataframe tbody tr th {\n",
       "        vertical-align: top;\n",
       "    }\n",
       "\n",
       "    .dataframe thead th {\n",
       "        text-align: right;\n",
       "    }\n",
       "</style>\n",
       "<table border=\"1\" class=\"dataframe\">\n",
       "  <thead>\n",
       "    <tr style=\"text-align: right;\">\n",
       "      <th></th>\n",
       "      <th>Cement</th>\n",
       "      <th>Blast Furnace Slag</th>\n",
       "      <th>Fly Ash</th>\n",
       "      <th>Water</th>\n",
       "      <th>Superplasticizer</th>\n",
       "      <th>Coarse Aggregate</th>\n",
       "      <th>Fine Aggregate</th>\n",
       "      <th>Age</th>\n",
       "    </tr>\n",
       "  </thead>\n",
       "  <tbody>\n",
       "    <tr>\n",
       "      <th>0</th>\n",
       "      <td>2.476712</td>\n",
       "      <td>-0.856472</td>\n",
       "      <td>-0.846733</td>\n",
       "      <td>-0.916319</td>\n",
       "      <td>-0.620147</td>\n",
       "      <td>0.862735</td>\n",
       "      <td>-1.217079</td>\n",
       "      <td>-0.279597</td>\n",
       "    </tr>\n",
       "    <tr>\n",
       "      <th>1</th>\n",
       "      <td>2.476712</td>\n",
       "      <td>-0.856472</td>\n",
       "      <td>-0.846733</td>\n",
       "      <td>-0.916319</td>\n",
       "      <td>-0.620147</td>\n",
       "      <td>1.055651</td>\n",
       "      <td>-1.217079</td>\n",
       "      <td>-0.279597</td>\n",
       "    </tr>\n",
       "    <tr>\n",
       "      <th>2</th>\n",
       "      <td>0.491187</td>\n",
       "      <td>0.795140</td>\n",
       "      <td>-0.846733</td>\n",
       "      <td>2.174405</td>\n",
       "      <td>-1.038638</td>\n",
       "      <td>-0.526262</td>\n",
       "      <td>-2.239829</td>\n",
       "      <td>3.551340</td>\n",
       "    </tr>\n",
       "    <tr>\n",
       "      <th>3</th>\n",
       "      <td>0.491187</td>\n",
       "      <td>0.795140</td>\n",
       "      <td>-0.846733</td>\n",
       "      <td>2.174405</td>\n",
       "      <td>-1.038638</td>\n",
       "      <td>-0.526262</td>\n",
       "      <td>-2.239829</td>\n",
       "      <td>5.055221</td>\n",
       "    </tr>\n",
       "    <tr>\n",
       "      <th>4</th>\n",
       "      <td>-0.790075</td>\n",
       "      <td>0.678079</td>\n",
       "      <td>-0.846733</td>\n",
       "      <td>0.488555</td>\n",
       "      <td>-1.038638</td>\n",
       "      <td>0.070492</td>\n",
       "      <td>0.647569</td>\n",
       "      <td>4.976069</td>\n",
       "    </tr>\n",
       "  </tbody>\n",
       "</table>\n",
       "</div>"
      ],
      "text/plain": [
       "     Cement  Blast Furnace Slag   Fly Ash     Water  Superplasticizer  \\\n",
       "0  2.476712           -0.856472 -0.846733 -0.916319         -0.620147   \n",
       "1  2.476712           -0.856472 -0.846733 -0.916319         -0.620147   \n",
       "2  0.491187            0.795140 -0.846733  2.174405         -1.038638   \n",
       "3  0.491187            0.795140 -0.846733  2.174405         -1.038638   \n",
       "4 -0.790075            0.678079 -0.846733  0.488555         -1.038638   \n",
       "\n",
       "   Coarse Aggregate  Fine Aggregate       Age  \n",
       "0          0.862735       -1.217079 -0.279597  \n",
       "1          1.055651       -1.217079 -0.279597  \n",
       "2         -0.526262       -2.239829  3.551340  \n",
       "3         -0.526262       -2.239829  5.055221  \n",
       "4          0.070492        0.647569  4.976069  "
      ]
     },
     "execution_count": 13,
     "metadata": {},
     "output_type": "execute_result"
    }
   ],
   "source": [
    "predictors_norm = (predictors - predictors.mean()) / predictors.std()\n",
    "predictors_norm.head()"
   ]
  },
  {
   "cell_type": "code",
   "execution_count": 15,
   "id": "86739299",
   "metadata": {},
   "outputs": [
    {
     "data": {
      "text/plain": [
       "0    79.99\n",
       "1    61.89\n",
       "2    40.27\n",
       "3    41.05\n",
       "4    44.30\n",
       "Name: Strength, dtype: float64"
      ]
     },
     "execution_count": 15,
     "metadata": {},
     "output_type": "execute_result"
    }
   ],
   "source": [
    "target.head()"
   ]
  },
  {
   "cell_type": "code",
   "execution_count": 14,
   "id": "8bcc8616",
   "metadata": {},
   "outputs": [],
   "source": [
    "n_cols = predictors_norm.shape[1] # number of predictors"
   ]
  },
  {
   "cell_type": "code",
   "execution_count": 19,
   "id": "e710fb5f",
   "metadata": {},
   "outputs": [
    {
     "data": {
      "text/plain": [
       "8"
      ]
     },
     "execution_count": 19,
     "metadata": {},
     "output_type": "execute_result"
    }
   ],
   "source": [
    "n_cols"
   ]
  },
  {
   "cell_type": "code",
   "execution_count": 16,
   "id": "bf56480d",
   "metadata": {},
   "outputs": [],
   "source": [
    "from keras.models import Sequential\n",
    "from keras.layers import Dense\n",
    "from keras.layers import Input"
   ]
  },
  {
   "cell_type": "code",
   "execution_count": 17,
   "id": "3c717378",
   "metadata": {},
   "outputs": [],
   "source": [
    "def regression_model():\n",
    "    # create model\n",
    "    model = Sequential()\n",
    "    model.add(Input(shape=(n_cols,)))\n",
    "    model.add(Dense(50, activation='relu'))\n",
    "    model.add(Dense(50, activation='relu'))\n",
    "    model.add(Dense(1))\n",
    "    \n",
    "    # compile model\n",
    "    model.compile(optimizer='adam', loss='mean_squared_error')\n",
    "    return model"
   ]
  },
  {
   "cell_type": "code",
   "execution_count": 20,
   "id": "0ad809d5",
   "metadata": {},
   "outputs": [],
   "source": [
    "# build the model\n",
    "model = regression_model()"
   ]
  },
  {
   "cell_type": "code",
   "execution_count": 21,
   "id": "9cf43cee",
   "metadata": {},
   "outputs": [
    {
     "name": "stdout",
     "output_type": "stream",
     "text": [
      "Epoch 1/100\n",
      "23/23 - 1s - 38ms/step - loss: 1633.2893 - val_loss: 1117.2472\n",
      "Epoch 2/100\n",
      "23/23 - 0s - 5ms/step - loss: 1500.5846 - val_loss: 975.5190\n",
      "Epoch 3/100\n",
      "23/23 - 0s - 5ms/step - loss: 1272.9146 - val_loss: 755.9138\n",
      "Epoch 4/100\n",
      "23/23 - 0s - 5ms/step - loss: 930.1559 - val_loss: 481.3270\n",
      "Epoch 5/100\n",
      "23/23 - 0s - 5ms/step - loss: 553.0948 - val_loss: 260.3663\n",
      "Epoch 6/100\n",
      "23/23 - 0s - 5ms/step - loss: 313.7539 - val_loss: 177.4929\n",
      "Epoch 7/100\n",
      "23/23 - 0s - 5ms/step - loss: 244.1379 - val_loss: 164.8585\n",
      "Epoch 8/100\n",
      "23/23 - 0s - 5ms/step - loss: 221.1068 - val_loss: 167.0406\n",
      "Epoch 9/100\n",
      "23/23 - 0s - 5ms/step - loss: 207.9200 - val_loss: 164.7664\n",
      "Epoch 10/100\n",
      "23/23 - 0s - 5ms/step - loss: 197.1824 - val_loss: 161.7742\n",
      "Epoch 11/100\n",
      "23/23 - 0s - 5ms/step - loss: 188.3918 - val_loss: 158.9237\n",
      "Epoch 12/100\n",
      "23/23 - 0s - 5ms/step - loss: 181.3653 - val_loss: 157.8160\n",
      "Epoch 13/100\n",
      "23/23 - 0s - 5ms/step - loss: 175.8137 - val_loss: 155.1878\n",
      "Epoch 14/100\n",
      "23/23 - 0s - 5ms/step - loss: 168.8406 - val_loss: 153.9599\n",
      "Epoch 15/100\n",
      "23/23 - 0s - 5ms/step - loss: 164.6064 - val_loss: 153.0165\n",
      "Epoch 16/100\n",
      "23/23 - 0s - 5ms/step - loss: 161.2470 - val_loss: 151.5186\n",
      "Epoch 17/100\n",
      "23/23 - 0s - 6ms/step - loss: 157.2211 - val_loss: 150.0360\n",
      "Epoch 18/100\n",
      "23/23 - 0s - 4ms/step - loss: 154.5262 - val_loss: 149.4415\n",
      "Epoch 19/100\n",
      "23/23 - 0s - 5ms/step - loss: 151.2727 - val_loss: 147.0011\n",
      "Epoch 20/100\n",
      "23/23 - 0s - 5ms/step - loss: 148.3651 - val_loss: 148.7573\n",
      "Epoch 21/100\n",
      "23/23 - 0s - 4ms/step - loss: 146.2537 - val_loss: 149.0110\n",
      "Epoch 22/100\n",
      "23/23 - 0s - 5ms/step - loss: 144.1963 - val_loss: 147.8037\n",
      "Epoch 23/100\n",
      "23/23 - 0s - 5ms/step - loss: 142.1357 - val_loss: 146.2197\n",
      "Epoch 24/100\n",
      "23/23 - 0s - 4ms/step - loss: 140.1165 - val_loss: 145.8754\n",
      "Epoch 25/100\n",
      "23/23 - 0s - 4ms/step - loss: 138.3442 - val_loss: 146.8104\n",
      "Epoch 26/100\n",
      "23/23 - 0s - 5ms/step - loss: 136.8205 - val_loss: 146.4299\n",
      "Epoch 27/100\n",
      "23/23 - 0s - 5ms/step - loss: 134.5565 - val_loss: 148.5417\n",
      "Epoch 28/100\n",
      "23/23 - 0s - 5ms/step - loss: 132.9272 - val_loss: 146.2790\n",
      "Epoch 29/100\n",
      "23/23 - 0s - 5ms/step - loss: 130.6501 - val_loss: 143.6750\n",
      "Epoch 30/100\n",
      "23/23 - 0s - 4ms/step - loss: 129.2344 - val_loss: 145.8944\n",
      "Epoch 31/100\n",
      "23/23 - 0s - 5ms/step - loss: 126.7934 - val_loss: 144.1303\n",
      "Epoch 32/100\n",
      "23/23 - 0s - 4ms/step - loss: 124.5490 - val_loss: 143.7949\n",
      "Epoch 33/100\n",
      "23/23 - 0s - 4ms/step - loss: 122.5649 - val_loss: 141.8091\n",
      "Epoch 34/100\n",
      "23/23 - 0s - 4ms/step - loss: 120.5292 - val_loss: 142.1401\n",
      "Epoch 35/100\n",
      "23/23 - 0s - 4ms/step - loss: 118.9098 - val_loss: 141.0809\n",
      "Epoch 36/100\n",
      "23/23 - 0s - 4ms/step - loss: 116.3646 - val_loss: 141.9098\n",
      "Epoch 37/100\n",
      "23/23 - 0s - 4ms/step - loss: 114.6699 - val_loss: 138.5685\n",
      "Epoch 38/100\n",
      "23/23 - 0s - 5ms/step - loss: 111.5194 - val_loss: 139.9542\n",
      "Epoch 39/100\n",
      "23/23 - 0s - 5ms/step - loss: 108.2709 - val_loss: 135.0743\n",
      "Epoch 40/100\n",
      "23/23 - 0s - 4ms/step - loss: 105.7277 - val_loss: 136.2176\n",
      "Epoch 41/100\n",
      "23/23 - 0s - 4ms/step - loss: 102.3865 - val_loss: 131.2015\n",
      "Epoch 42/100\n",
      "23/23 - 0s - 4ms/step - loss: 99.0378 - val_loss: 130.3609\n",
      "Epoch 43/100\n",
      "23/23 - 0s - 5ms/step - loss: 96.1949 - val_loss: 129.2151\n",
      "Epoch 44/100\n",
      "23/23 - 0s - 5ms/step - loss: 92.2427 - val_loss: 128.2713\n",
      "Epoch 45/100\n",
      "23/23 - 0s - 5ms/step - loss: 88.7262 - val_loss: 123.0141\n",
      "Epoch 46/100\n",
      "23/23 - 0s - 4ms/step - loss: 85.7341 - val_loss: 121.8881\n",
      "Epoch 47/100\n",
      "23/23 - 0s - 5ms/step - loss: 82.2274 - val_loss: 121.2764\n",
      "Epoch 48/100\n",
      "23/23 - 0s - 5ms/step - loss: 79.3801 - val_loss: 120.7527\n",
      "Epoch 49/100\n",
      "23/23 - 0s - 4ms/step - loss: 76.2307 - val_loss: 115.9113\n",
      "Epoch 50/100\n",
      "23/23 - 0s - 4ms/step - loss: 73.7224 - val_loss: 115.3598\n",
      "Epoch 51/100\n",
      "23/23 - 0s - 4ms/step - loss: 72.3753 - val_loss: 114.4425\n",
      "Epoch 52/100\n",
      "23/23 - 0s - 4ms/step - loss: 68.7788 - val_loss: 111.3188\n",
      "Epoch 53/100\n",
      "23/23 - 0s - 4ms/step - loss: 66.9377 - val_loss: 112.4648\n",
      "Epoch 54/100\n",
      "23/23 - 0s - 5ms/step - loss: 64.6364 - val_loss: 109.3999\n",
      "Epoch 55/100\n",
      "23/23 - 0s - 4ms/step - loss: 62.1533 - val_loss: 111.8799\n",
      "Epoch 56/100\n",
      "23/23 - 0s - 4ms/step - loss: 60.1851 - val_loss: 106.4693\n",
      "Epoch 57/100\n",
      "23/23 - 0s - 4ms/step - loss: 58.0974 - val_loss: 109.3103\n",
      "Epoch 58/100\n",
      "23/23 - 0s - 5ms/step - loss: 57.1440 - val_loss: 106.7168\n",
      "Epoch 59/100\n",
      "23/23 - 0s - 5ms/step - loss: 55.3967 - val_loss: 104.2416\n",
      "Epoch 60/100\n",
      "23/23 - 0s - 5ms/step - loss: 53.6012 - val_loss: 107.0521\n",
      "Epoch 61/100\n",
      "23/23 - 0s - 5ms/step - loss: 52.2478 - val_loss: 107.7128\n",
      "Epoch 62/100\n",
      "23/23 - 0s - 4ms/step - loss: 51.2886 - val_loss: 104.2689\n",
      "Epoch 63/100\n",
      "23/23 - 0s - 4ms/step - loss: 49.7554 - val_loss: 107.0512\n",
      "Epoch 64/100\n",
      "23/23 - 0s - 4ms/step - loss: 48.7209 - val_loss: 108.4407\n",
      "Epoch 65/100\n",
      "23/23 - 0s - 4ms/step - loss: 47.5170 - val_loss: 106.8354\n",
      "Epoch 66/100\n",
      "23/23 - 0s - 4ms/step - loss: 46.3900 - val_loss: 107.4228\n",
      "Epoch 67/100\n",
      "23/23 - 0s - 5ms/step - loss: 45.2027 - val_loss: 107.8071\n",
      "Epoch 68/100\n",
      "23/23 - 0s - 5ms/step - loss: 44.1110 - val_loss: 113.9966\n",
      "Epoch 69/100\n",
      "23/23 - 0s - 5ms/step - loss: 43.3998 - val_loss: 110.6131\n",
      "Epoch 70/100\n",
      "23/23 - 0s - 4ms/step - loss: 42.6028 - val_loss: 110.0901\n",
      "Epoch 71/100\n",
      "23/23 - 0s - 4ms/step - loss: 41.5527 - val_loss: 119.4130\n",
      "Epoch 72/100\n",
      "23/23 - 0s - 5ms/step - loss: 41.0985 - val_loss: 110.7584\n",
      "Epoch 73/100\n",
      "23/23 - 0s - 5ms/step - loss: 40.8804 - val_loss: 123.2536\n",
      "Epoch 74/100\n",
      "23/23 - 0s - 5ms/step - loss: 39.6813 - val_loss: 117.3895\n",
      "Epoch 75/100\n",
      "23/23 - 0s - 4ms/step - loss: 38.7713 - val_loss: 119.9612\n",
      "Epoch 76/100\n",
      "23/23 - 0s - 5ms/step - loss: 38.0440 - val_loss: 121.4764\n",
      "Epoch 77/100\n",
      "23/23 - 0s - 4ms/step - loss: 37.7933 - val_loss: 113.7413\n",
      "Epoch 78/100\n",
      "23/23 - 0s - 5ms/step - loss: 37.4230 - val_loss: 125.5107\n",
      "Epoch 79/100\n",
      "23/23 - 0s - 4ms/step - loss: 36.6434 - val_loss: 121.1255\n",
      "Epoch 80/100\n",
      "23/23 - 0s - 4ms/step - loss: 36.1793 - val_loss: 125.0551\n",
      "Epoch 81/100\n",
      "23/23 - 0s - 4ms/step - loss: 35.2264 - val_loss: 127.7844\n",
      "Epoch 82/100\n",
      "23/23 - 0s - 4ms/step - loss: 34.8619 - val_loss: 123.6301\n",
      "Epoch 83/100\n",
      "23/23 - 0s - 4ms/step - loss: 34.7523 - val_loss: 124.8497\n",
      "Epoch 84/100\n",
      "23/23 - 0s - 4ms/step - loss: 34.2935 - val_loss: 127.4488\n",
      "Epoch 85/100\n",
      "23/23 - 0s - 4ms/step - loss: 34.3837 - val_loss: 114.6928\n",
      "Epoch 86/100\n",
      "23/23 - 0s - 4ms/step - loss: 33.8885 - val_loss: 125.7700\n",
      "Epoch 87/100\n",
      "23/23 - 0s - 4ms/step - loss: 33.0390 - val_loss: 127.6225\n",
      "Epoch 88/100\n",
      "23/23 - 0s - 5ms/step - loss: 32.5928 - val_loss: 125.3265\n",
      "Epoch 89/100\n",
      "23/23 - 0s - 5ms/step - loss: 33.5735 - val_loss: 124.2704\n",
      "Epoch 90/100\n",
      "23/23 - 0s - 5ms/step - loss: 32.8003 - val_loss: 125.3780\n",
      "Epoch 91/100\n",
      "23/23 - 0s - 5ms/step - loss: 31.5910 - val_loss: 134.0967\n",
      "Epoch 92/100\n",
      "23/23 - 0s - 5ms/step - loss: 31.4550 - val_loss: 129.5101\n",
      "Epoch 93/100\n",
      "23/23 - 0s - 4ms/step - loss: 31.3555 - val_loss: 130.1366\n",
      "Epoch 94/100\n",
      "23/23 - 0s - 4ms/step - loss: 30.9916 - val_loss: 124.5872\n",
      "Epoch 95/100\n",
      "23/23 - 0s - 5ms/step - loss: 30.8845 - val_loss: 131.0775\n",
      "Epoch 96/100\n",
      "23/23 - 0s - 4ms/step - loss: 30.0791 - val_loss: 132.8161\n",
      "Epoch 97/100\n",
      "23/23 - 0s - 4ms/step - loss: 30.2510 - val_loss: 129.0622\n",
      "Epoch 98/100\n",
      "23/23 - 0s - 5ms/step - loss: 29.7424 - val_loss: 134.5268\n",
      "Epoch 99/100\n",
      "23/23 - 0s - 4ms/step - loss: 29.7276 - val_loss: 133.7553\n",
      "Epoch 100/100\n",
      "23/23 - 0s - 4ms/step - loss: 29.1216 - val_loss: 134.7349\n"
     ]
    },
    {
     "data": {
      "text/plain": [
       "<keras.src.callbacks.history.History at 0x1d0a2ac8560>"
      ]
     },
     "execution_count": 21,
     "metadata": {},
     "output_type": "execute_result"
    }
   ],
   "source": [
    "# fit the model\n",
    "model.fit(predictors_norm, target, validation_split=0.3, epochs=100, verbose=2)"
   ]
  },
  {
   "cell_type": "code",
   "execution_count": 22,
   "id": "d876c73f",
   "metadata": {},
   "outputs": [],
   "source": [
    "def regression_model():\n",
    "    input_colm = predictors_norm.shape[1] # Number of input features\n",
    "    # create model\n",
    "    model = Sequential()\n",
    "    model.add(Input(shape=(input_colm,)))  # Set the number of input features \n",
    "    model.add(Dense(50, activation='relu'))  \n",
    "    model.add(Dense(50, activation='relu'))\n",
    "    model.add(Dense(50, activation='relu')) \n",
    "    model.add(Dense(50, activation='relu'))\n",
    "    model.add(Dense(50, activation='relu'))  \n",
    "    model.add(Dense(1))  # Output layer\n",
    "    \n",
    "    # compile model\n",
    "    model.compile(optimizer='adam', loss='mean_squared_error')\n",
    "    return model"
   ]
  },
  {
   "cell_type": "code",
   "execution_count": 23,
   "id": "3cf87642",
   "metadata": {},
   "outputs": [
    {
     "name": "stdout",
     "output_type": "stream",
     "text": [
      "Epoch 1/100\n",
      "29/29 - 2s - 57ms/step - loss: 1461.7382 - val_loss: 846.8385\n",
      "Epoch 2/100\n",
      "29/29 - 0s - 4ms/step - loss: 489.5653 - val_loss: 203.1628\n",
      "Epoch 3/100\n",
      "29/29 - 0s - 4ms/step - loss: 231.6350 - val_loss: 183.1444\n",
      "Epoch 4/100\n",
      "29/29 - 0s - 5ms/step - loss: 196.9732 - val_loss: 177.6007\n",
      "Epoch 5/100\n",
      "29/29 - 0s - 5ms/step - loss: 183.2000 - val_loss: 156.6969\n",
      "Epoch 6/100\n",
      "29/29 - 0s - 5ms/step - loss: 164.0904 - val_loss: 146.8222\n",
      "Epoch 7/100\n",
      "29/29 - 0s - 6ms/step - loss: 148.7939 - val_loss: 128.4468\n",
      "Epoch 8/100\n",
      "29/29 - 0s - 5ms/step - loss: 132.9190 - val_loss: 119.5272\n",
      "Epoch 9/100\n",
      "29/29 - 0s - 5ms/step - loss: 114.5891 - val_loss: 107.1647\n",
      "Epoch 10/100\n",
      "29/29 - 0s - 4ms/step - loss: 98.4033 - val_loss: 99.0160\n",
      "Epoch 11/100\n",
      "29/29 - 0s - 4ms/step - loss: 83.2345 - val_loss: 89.9965\n",
      "Epoch 12/100\n",
      "29/29 - 0s - 5ms/step - loss: 74.9984 - val_loss: 81.1361\n",
      "Epoch 13/100\n",
      "29/29 - 0s - 4ms/step - loss: 65.2453 - val_loss: 74.1172\n",
      "Epoch 14/100\n",
      "29/29 - 0s - 4ms/step - loss: 58.6343 - val_loss: 76.8288\n",
      "Epoch 15/100\n",
      "29/29 - 0s - 4ms/step - loss: 55.1186 - val_loss: 57.2721\n",
      "Epoch 16/100\n",
      "29/29 - 0s - 4ms/step - loss: 50.6527 - val_loss: 52.1893\n",
      "Epoch 17/100\n",
      "29/29 - 0s - 4ms/step - loss: 47.6008 - val_loss: 47.7515\n",
      "Epoch 18/100\n",
      "29/29 - 0s - 4ms/step - loss: 44.2079 - val_loss: 39.0284\n",
      "Epoch 19/100\n",
      "29/29 - 0s - 4ms/step - loss: 41.4076 - val_loss: 34.7925\n",
      "Epoch 20/100\n",
      "29/29 - 0s - 4ms/step - loss: 38.9276 - val_loss: 32.2912\n",
      "Epoch 21/100\n",
      "29/29 - 0s - 4ms/step - loss: 36.1884 - val_loss: 30.9097\n",
      "Epoch 22/100\n",
      "29/29 - 0s - 4ms/step - loss: 34.9668 - val_loss: 31.2999\n",
      "Epoch 23/100\n",
      "29/29 - 0s - 4ms/step - loss: 34.0379 - val_loss: 28.7627\n",
      "Epoch 24/100\n",
      "29/29 - 0s - 4ms/step - loss: 31.9733 - val_loss: 27.9514\n",
      "Epoch 25/100\n",
      "29/29 - 0s - 4ms/step - loss: 31.3958 - val_loss: 25.8204\n",
      "Epoch 26/100\n",
      "29/29 - 0s - 4ms/step - loss: 30.5233 - val_loss: 29.7083\n",
      "Epoch 27/100\n",
      "29/29 - 0s - 4ms/step - loss: 27.7868 - val_loss: 23.9791\n",
      "Epoch 28/100\n",
      "29/29 - 0s - 4ms/step - loss: 27.3412 - val_loss: 28.0639\n",
      "Epoch 29/100\n",
      "29/29 - 0s - 4ms/step - loss: 28.4174 - val_loss: 26.7495\n",
      "Epoch 30/100\n",
      "29/29 - 0s - 4ms/step - loss: 24.9599 - val_loss: 25.3101\n",
      "Epoch 31/100\n",
      "29/29 - 0s - 4ms/step - loss: 25.6287 - val_loss: 24.8976\n",
      "Epoch 32/100\n",
      "29/29 - 0s - 4ms/step - loss: 23.6501 - val_loss: 25.5502\n",
      "Epoch 33/100\n",
      "29/29 - 0s - 4ms/step - loss: 23.9948 - val_loss: 22.0096\n",
      "Epoch 34/100\n",
      "29/29 - 0s - 4ms/step - loss: 22.3640 - val_loss: 22.6580\n",
      "Epoch 35/100\n",
      "29/29 - 0s - 4ms/step - loss: 21.8440 - val_loss: 22.5058\n",
      "Epoch 36/100\n",
      "29/29 - 0s - 4ms/step - loss: 23.0204 - val_loss: 22.5611\n",
      "Epoch 37/100\n",
      "29/29 - 0s - 4ms/step - loss: 22.7776 - val_loss: 24.4549\n",
      "Epoch 38/100\n",
      "29/29 - 0s - 4ms/step - loss: 20.6039 - val_loss: 22.4182\n",
      "Epoch 39/100\n",
      "29/29 - 0s - 4ms/step - loss: 19.7816 - val_loss: 23.4646\n",
      "Epoch 40/100\n",
      "29/29 - 0s - 4ms/step - loss: 19.5497 - val_loss: 26.9122\n",
      "Epoch 41/100\n",
      "29/29 - 0s - 4ms/step - loss: 19.3169 - val_loss: 20.5239\n",
      "Epoch 42/100\n",
      "29/29 - 0s - 4ms/step - loss: 20.7051 - val_loss: 21.5318\n",
      "Epoch 43/100\n",
      "29/29 - 0s - 4ms/step - loss: 19.8357 - val_loss: 22.2718\n",
      "Epoch 44/100\n",
      "29/29 - 0s - 4ms/step - loss: 18.8921 - val_loss: 20.4068\n",
      "Epoch 45/100\n",
      "29/29 - 0s - 4ms/step - loss: 19.0566 - val_loss: 21.1563\n",
      "Epoch 46/100\n",
      "29/29 - 0s - 4ms/step - loss: 18.8946 - val_loss: 19.5711\n",
      "Epoch 47/100\n",
      "29/29 - 0s - 4ms/step - loss: 17.4358 - val_loss: 20.3139\n",
      "Epoch 48/100\n",
      "29/29 - 0s - 5ms/step - loss: 16.8374 - val_loss: 22.2448\n",
      "Epoch 49/100\n",
      "29/29 - 0s - 4ms/step - loss: 16.9733 - val_loss: 19.0814\n",
      "Epoch 50/100\n",
      "29/29 - 0s - 4ms/step - loss: 17.4328 - val_loss: 18.7412\n",
      "Epoch 51/100\n",
      "29/29 - 0s - 4ms/step - loss: 16.6468 - val_loss: 26.5924\n",
      "Epoch 52/100\n",
      "29/29 - 0s - 4ms/step - loss: 16.8329 - val_loss: 21.6257\n",
      "Epoch 53/100\n",
      "29/29 - 0s - 4ms/step - loss: 16.5374 - val_loss: 19.0630\n",
      "Epoch 54/100\n",
      "29/29 - 0s - 4ms/step - loss: 16.0981 - val_loss: 19.4793\n",
      "Epoch 55/100\n",
      "29/29 - 0s - 4ms/step - loss: 15.7923 - val_loss: 19.8456\n",
      "Epoch 56/100\n",
      "29/29 - 0s - 4ms/step - loss: 14.8602 - val_loss: 19.0812\n",
      "Epoch 57/100\n",
      "29/29 - 0s - 5ms/step - loss: 16.1544 - val_loss: 17.0336\n",
      "Epoch 58/100\n",
      "29/29 - 0s - 6ms/step - loss: 15.7514 - val_loss: 19.4055\n",
      "Epoch 59/100\n",
      "29/29 - 0s - 5ms/step - loss: 14.8431 - val_loss: 18.0625\n",
      "Epoch 60/100\n",
      "29/29 - 0s - 4ms/step - loss: 14.9312 - val_loss: 18.4761\n",
      "Epoch 61/100\n",
      "29/29 - 0s - 4ms/step - loss: 14.6204 - val_loss: 17.4078\n",
      "Epoch 62/100\n",
      "29/29 - 0s - 4ms/step - loss: 14.7602 - val_loss: 29.2646\n",
      "Epoch 63/100\n",
      "29/29 - 0s - 4ms/step - loss: 14.9747 - val_loss: 16.7488\n",
      "Epoch 64/100\n",
      "29/29 - 0s - 4ms/step - loss: 15.0252 - val_loss: 19.8405\n",
      "Epoch 65/100\n",
      "29/29 - 0s - 4ms/step - loss: 14.4878 - val_loss: 15.8262\n",
      "Epoch 66/100\n",
      "29/29 - 0s - 4ms/step - loss: 14.8774 - val_loss: 19.3966\n",
      "Epoch 67/100\n",
      "29/29 - 0s - 4ms/step - loss: 15.2455 - val_loss: 15.4739\n",
      "Epoch 68/100\n",
      "29/29 - 0s - 4ms/step - loss: 13.3308 - val_loss: 17.4169\n",
      "Epoch 69/100\n",
      "29/29 - 0s - 4ms/step - loss: 14.1727 - val_loss: 19.7504\n",
      "Epoch 70/100\n",
      "29/29 - 0s - 4ms/step - loss: 13.6362 - val_loss: 15.8954\n",
      "Epoch 71/100\n",
      "29/29 - 0s - 4ms/step - loss: 14.0708 - val_loss: 14.6219\n",
      "Epoch 72/100\n",
      "29/29 - 0s - 5ms/step - loss: 14.5976 - val_loss: 16.1334\n",
      "Epoch 73/100\n",
      "29/29 - 0s - 5ms/step - loss: 13.0659 - val_loss: 15.5212\n",
      "Epoch 74/100\n",
      "29/29 - 0s - 4ms/step - loss: 12.9597 - val_loss: 19.2782\n",
      "Epoch 75/100\n",
      "29/29 - 0s - 4ms/step - loss: 14.2748 - val_loss: 14.9509\n",
      "Epoch 76/100\n",
      "29/29 - 0s - 4ms/step - loss: 13.0266 - val_loss: 16.4924\n",
      "Epoch 77/100\n",
      "29/29 - 0s - 4ms/step - loss: 13.1566 - val_loss: 14.3796\n",
      "Epoch 78/100\n",
      "29/29 - 0s - 4ms/step - loss: 12.2104 - val_loss: 15.8534\n",
      "Epoch 79/100\n",
      "29/29 - 0s - 4ms/step - loss: 12.6271 - val_loss: 13.4335\n",
      "Epoch 80/100\n",
      "29/29 - 0s - 5ms/step - loss: 12.8048 - val_loss: 16.2278\n",
      "Epoch 81/100\n",
      "29/29 - 0s - 4ms/step - loss: 13.1644 - val_loss: 14.8505\n",
      "Epoch 82/100\n",
      "29/29 - 0s - 4ms/step - loss: 13.6992 - val_loss: 13.0200\n",
      "Epoch 83/100\n",
      "29/29 - 0s - 4ms/step - loss: 12.6312 - val_loss: 14.8086\n",
      "Epoch 84/100\n",
      "29/29 - 0s - 4ms/step - loss: 12.1080 - val_loss: 14.8963\n",
      "Epoch 85/100\n",
      "29/29 - 0s - 4ms/step - loss: 12.2081 - val_loss: 14.1597\n",
      "Epoch 86/100\n",
      "29/29 - 0s - 4ms/step - loss: 13.0988 - val_loss: 17.4673\n",
      "Epoch 87/100\n",
      "29/29 - 0s - 4ms/step - loss: 13.4583 - val_loss: 14.2950\n",
      "Epoch 88/100\n",
      "29/29 - 0s - 5ms/step - loss: 12.1461 - val_loss: 13.3741\n",
      "Epoch 89/100\n",
      "29/29 - 0s - 4ms/step - loss: 10.9699 - val_loss: 13.7357\n",
      "Epoch 90/100\n",
      "29/29 - 0s - 4ms/step - loss: 11.7317 - val_loss: 13.1855\n",
      "Epoch 91/100\n",
      "29/29 - 0s - 5ms/step - loss: 12.5628 - val_loss: 13.1018\n",
      "Epoch 92/100\n",
      "29/29 - 0s - 4ms/step - loss: 11.9651 - val_loss: 13.0161\n",
      "Epoch 93/100\n",
      "29/29 - 0s - 4ms/step - loss: 11.9741 - val_loss: 12.9002\n",
      "Epoch 94/100\n",
      "29/29 - 0s - 4ms/step - loss: 11.7598 - val_loss: 13.0950\n",
      "Epoch 95/100\n",
      "29/29 - 0s - 5ms/step - loss: 11.3928 - val_loss: 15.9232\n",
      "Epoch 96/100\n",
      "29/29 - 0s - 5ms/step - loss: 11.7531 - val_loss: 17.2354\n",
      "Epoch 97/100\n",
      "29/29 - 0s - 6ms/step - loss: 10.6661 - val_loss: 12.5903\n",
      "Epoch 98/100\n",
      "29/29 - 0s - 6ms/step - loss: 11.4214 - val_loss: 12.4153\n",
      "Epoch 99/100\n",
      "29/29 - 0s - 5ms/step - loss: 13.4010 - val_loss: 13.5127\n",
      "Epoch 100/100\n",
      "29/29 - 0s - 4ms/step - loss: 11.5110 - val_loss: 13.6769\n"
     ]
    },
    {
     "data": {
      "text/plain": [
       "<keras.src.callbacks.history.History at 0x1d0a2c168a0>"
      ]
     },
     "execution_count": 23,
     "metadata": {},
     "output_type": "execute_result"
    }
   ],
   "source": [
    "model = regression_model()\n",
    "model.fit(predictors_norm, target, validation_split=0.1, epochs=100, verbose=2)"
   ]
  },
  {
   "cell_type": "markdown",
   "id": "ddb68f8f",
   "metadata": {},
   "source": [
    "- Adding more hidden layers to the model increases its capacity to learn and represent complex relationships within the data. This allows the model to better identify, as a result, the model becomes more effective at fitting the training data and potentially improving its predictions.\n",
    "- By reducing the proportion of data set aside for validation and using a larger portion for training, the model has access to more examples to learn from. This additional training data helps the model improve its understanding of the underlying trends, which can lead to better overall performance."
   ]
  },
  {
   "cell_type": "markdown",
   "id": "ee3cbce2",
   "metadata": {},
   "source": [
    "## Classification"
   ]
  },
  {
   "cell_type": "code",
   "execution_count": 24,
   "id": "1862599c",
   "metadata": {},
   "outputs": [],
   "source": [
    "import keras\n",
    "\n",
    "from keras.models import Sequential\n",
    "from keras.layers import Dense\n",
    "from keras.layers import Input\n",
    "from keras.utils import to_categorical"
   ]
  },
  {
   "cell_type": "code",
   "execution_count": 25,
   "id": "0129b296",
   "metadata": {},
   "outputs": [],
   "source": [
    "import matplotlib.pyplot as plt"
   ]
  },
  {
   "cell_type": "code",
   "execution_count": 26,
   "id": "fc623c1e",
   "metadata": {},
   "outputs": [
    {
     "name": "stdout",
     "output_type": "stream",
     "text": [
      "Downloading data from https://storage.googleapis.com/tensorflow/tf-keras-datasets/mnist.npz\n",
      "\u001b[1m11490434/11490434\u001b[0m \u001b[32m━━━━━━━━━━━━━━━━━━━━\u001b[0m\u001b[37m\u001b[0m \u001b[1m1s\u001b[0m 0us/step\n"
     ]
    }
   ],
   "source": [
    "from keras.datasets import mnist\n",
    "\n",
    "# read the data\n",
    "(X_train, y_train), (X_test, y_test) = mnist.load_data()"
   ]
  },
  {
   "cell_type": "code",
   "execution_count": 27,
   "id": "4bf1a844",
   "metadata": {},
   "outputs": [
    {
     "data": {
      "text/plain": [
       "(60000, 28, 28)"
      ]
     },
     "execution_count": 27,
     "metadata": {},
     "output_type": "execute_result"
    }
   ],
   "source": [
    "X_train.shape"
   ]
  },
  {
   "cell_type": "code",
   "execution_count": 28,
   "id": "8ad59a16",
   "metadata": {},
   "outputs": [
    {
     "data": {
      "text/plain": [
       "<matplotlib.image.AxesImage at 0x1d0a2bf55e0>"
      ]
     },
     "execution_count": 28,
     "metadata": {},
     "output_type": "execute_result"
    },
    {
     "data": {
      "image/png": "[encoded data removed]",
      "text/plain": [
       "<Figure size 640x480 with 1 Axes>"
      ]
     },
     "metadata": {},
     "output_type": "display_data"
    }
   ],
   "source": [
    "plt.imshow(X_train[0])"
   ]
  },
  {
   "cell_type": "code",
   "execution_count": 29,
   "id": "8418b78c",
   "metadata": {},
   "outputs": [],
   "source": [
    "# flatten images into one-dimensional vector\n",
    "\n",
    "num_pixels = X_train.shape[1] * X_train.shape[2] # find size of one-dimensional vector\n",
    "\n",
    "X_train = X_train.reshape(X_train.shape[0], num_pixels).astype('float32') # flatten training images\n",
    "X_test = X_test.reshape(X_test.shape[0], num_pixels).astype('float32') # flatten test images"
   ]
  },
  {
   "cell_type": "code",
   "execution_count": 30,
   "id": "1628a544",
   "metadata": {},
   "outputs": [],
   "source": [
    "# normalize inputs from 0-255 to 0-1\n",
    "X_train = X_train / 255\n",
    "X_test = X_test / 255"
   ]
  },
  {
   "cell_type": "code",
   "execution_count": 32,
   "id": "9bf23175",
   "metadata": {},
   "outputs": [
    {
     "data": {
      "text/plain": [
       "(60000, 784)"
      ]
     },
     "execution_count": 32,
     "metadata": {},
     "output_type": "execute_result"
    }
   ],
   "source": [
    "X_train.shape"
   ]
  },
  {
   "cell_type": "code",
   "execution_count": 33,
   "id": "232a7659",
   "metadata": {},
   "outputs": [
    {
     "name": "stdout",
     "output_type": "stream",
     "text": [
      "10\n"
     ]
    }
   ],
   "source": [
    "# one hot encode outputs\n",
    "y_train = to_categorical(y_train)\n",
    "y_test = to_categorical(y_test)\n",
    "\n",
    "num_classes = y_test.shape[1]\n",
    "print(num_classes)"
   ]
  },
  {
   "cell_type": "code",
   "execution_count": 34,
   "id": "00c39390",
   "metadata": {},
   "outputs": [
    {
     "data": {
      "text/plain": [
       "array([[0., 0., 0., ..., 0., 0., 0.],\n",
       "       [1., 0., 0., ..., 0., 0., 0.],\n",
       "       [0., 0., 0., ..., 0., 0., 0.],\n",
       "       ...,\n",
       "       [0., 0., 0., ..., 0., 0., 0.],\n",
       "       [0., 0., 0., ..., 0., 0., 0.],\n",
       "       [0., 0., 0., ..., 0., 1., 0.]])"
      ]
     },
     "execution_count": 34,
     "metadata": {},
     "output_type": "execute_result"
    }
   ],
   "source": [
    "y_train"
   ]
  },
  {
   "cell_type": "code",
   "execution_count": 35,
   "id": "06c3c271",
   "metadata": {},
   "outputs": [
    {
     "data": {
      "text/plain": [
       "(60000, 10)"
      ]
     },
     "execution_count": 35,
     "metadata": {},
     "output_type": "execute_result"
    }
   ],
   "source": [
    "y_train.shape"
   ]
  },
  {
   "cell_type": "code",
   "execution_count": 36,
   "id": "6cbbafbb",
   "metadata": {},
   "outputs": [],
   "source": [
    "# define classification model\n",
    "def classification_model():\n",
    "    # create model\n",
    "    \n",
    "    model = Sequential()\n",
    "    model.add(Input(shape=(num_pixels,)))\n",
    "    model.add(Dense(num_pixels, activation='relu'))\n",
    "    model.add(Dense(100, activation='relu'))\n",
    "    model.add(Dense(num_classes, activation='softmax'))\n",
    "    \n",
    "    \n",
    "    # compile model\n",
    "    model.compile(optimizer='adam', loss='categorical_crossentropy', metrics=['accuracy'])\n",
    "    return model"
   ]
  },
  {
   "cell_type": "code",
   "execution_count": 37,
   "id": "8d4b4ea0",
   "metadata": {},
   "outputs": [
    {
     "name": "stdout",
     "output_type": "stream",
     "text": [
      "Epoch 1/10\n",
      "1875/1875 - 18s - 9ms/step - accuracy: 0.9429 - loss: 0.1883 - val_accuracy: 0.9595 - val_loss: 0.1361\n",
      "Epoch 2/10\n",
      "1875/1875 - 17s - 9ms/step - accuracy: 0.9757 - loss: 0.0791 - val_accuracy: 0.9738 - val_loss: 0.0828\n",
      "Epoch 3/10\n",
      "1875/1875 - 17s - 9ms/step - accuracy: 0.9838 - loss: 0.0529 - val_accuracy: 0.9787 - val_loss: 0.0703\n",
      "Epoch 4/10\n",
      "1875/1875 - 23s - 12ms/step - accuracy: 0.9875 - loss: 0.0392 - val_accuracy: 0.9782 - val_loss: 0.0719\n",
      "Epoch 5/10\n",
      "1875/1875 - 20s - 11ms/step - accuracy: 0.9901 - loss: 0.0312 - val_accuracy: 0.9757 - val_loss: 0.0879\n",
      "Epoch 6/10\n",
      "1875/1875 - 18s - 10ms/step - accuracy: 0.9914 - loss: 0.0270 - val_accuracy: 0.9804 - val_loss: 0.0734\n",
      "Epoch 7/10\n",
      "1875/1875 - 17s - 9ms/step - accuracy: 0.9930 - loss: 0.0219 - val_accuracy: 0.9822 - val_loss: 0.0765\n",
      "Epoch 8/10\n",
      "1875/1875 - 21s - 11ms/step - accuracy: 0.9937 - loss: 0.0180 - val_accuracy: 0.9802 - val_loss: 0.0903\n",
      "Epoch 9/10\n",
      "1875/1875 - 17s - 9ms/step - accuracy: 0.9945 - loss: 0.0172 - val_accuracy: 0.9811 - val_loss: 0.0781\n",
      "Epoch 10/10\n",
      "1875/1875 - 17s - 9ms/step - accuracy: 0.9951 - loss: 0.0145 - val_accuracy: 0.9798 - val_loss: 0.0952\n"
     ]
    }
   ],
   "source": [
    "# build the model\n",
    "model = classification_model()\n",
    "\n",
    "# fit the model\n",
    "model.fit(X_train, y_train, validation_data=(X_test, y_test), epochs=10, verbose=2)\n",
    "\n",
    "# evaluate the model\n",
    "scores = model.evaluate(X_test, y_test, verbose=0)"
   ]
  },
  {
   "cell_type": "code",
   "execution_count": 38,
   "id": "b2f5069e",
   "metadata": {},
   "outputs": [
    {
     "name": "stdout",
     "output_type": "stream",
     "text": [
      "Accuracy: 0.9797999858856201% \n",
      " Error: 0.020200014114379883\n"
     ]
    }
   ],
   "source": [
    "print('Accuracy: {}% \\n Error: {}'.format(scores[1], 1 - scores[1]))       "
   ]
  },
  {
   "cell_type": "code",
   "execution_count": 39,
   "id": "eff8d3bf",
   "metadata": {},
   "outputs": [],
   "source": [
    "model.save('classification_model.keras')"
   ]
  },
  {
   "cell_type": "code",
   "execution_count": null,
   "id": "d23840eb",
   "metadata": {},
   "outputs": [],
   "source": [
    "pretrained_model = keras.saving.load_model('classification_model.keras')"
   ]
  },
  {
   "cell_type": "code",
   "execution_count": null,
   "id": "3ab3163d",
   "metadata": {},
   "outputs": [],
   "source": [
    "def classification_model():\n",
    "    # create model\n",
    "    \n",
    "    model = Sequential()\n",
    "    model.add(Input(shape=(num_pixels,)))\n",
    "    model.add(Dense(num_pixels, activation='relu'))\n",
    "    model.add(Dense(100, activation='relu'))\n",
    "    model.add(Dense(num_classes, activation='softmax'))\n",
    "    \n",
    "    \n",
    "    # compile model\n",
    "    model.compile(optimizer='adam', loss='categorical_crossentropy', metrics=['accuracy'])\n",
    "    return model"
   ]
  },
  {
   "cell_type": "code",
   "execution_count": 40,
   "id": "91464e96",
   "metadata": {},
   "outputs": [
    {
     "name": "stdout",
     "output_type": "stream",
     "text": [
      "Epoch 1/10\n",
      "1875/1875 - 19s - 10ms/step - accuracy: 0.9326 - loss: 0.2212 - val_accuracy: 0.9593 - val_loss: 0.1363\n",
      "Epoch 2/10\n",
      "1875/1875 - 18s - 10ms/step - accuracy: 0.9709 - loss: 0.0999 - val_accuracy: 0.9702 - val_loss: 0.1040\n",
      "Epoch 3/10\n",
      "1875/1875 - 16s - 9ms/step - accuracy: 0.9786 - loss: 0.0725 - val_accuracy: 0.9764 - val_loss: 0.0805\n",
      "Epoch 4/10\n",
      "1875/1875 - 16s - 8ms/step - accuracy: 0.9830 - loss: 0.0569 - val_accuracy: 0.9749 - val_loss: 0.0948\n",
      "Epoch 5/10\n",
      "1875/1875 - 17s - 9ms/step - accuracy: 0.9863 - loss: 0.0458 - val_accuracy: 0.9759 - val_loss: 0.0931\n",
      "Epoch 6/10\n",
      "1875/1875 - 17s - 9ms/step - accuracy: 0.9879 - loss: 0.0404 - val_accuracy: 0.9820 - val_loss: 0.0686\n",
      "Epoch 7/10\n",
      "1875/1875 - 18s - 9ms/step - accuracy: 0.9898 - loss: 0.0339 - val_accuracy: 0.9762 - val_loss: 0.1056\n",
      "Epoch 8/10\n",
      "1875/1875 - 17s - 9ms/step - accuracy: 0.9916 - loss: 0.0295 - val_accuracy: 0.9809 - val_loss: 0.0842\n",
      "Epoch 9/10\n",
      "1875/1875 - 17s - 9ms/step - accuracy: 0.9920 - loss: 0.0266 - val_accuracy: 0.9803 - val_loss: 0.0916\n",
      "Epoch 10/10\n",
      "1875/1875 - 21s - 11ms/step - accuracy: 0.9929 - loss: 0.0242 - val_accuracy: 0.9762 - val_loss: 0.1118\n",
      "Accuracy_3_layers: 0.9797999858856201% \n",
      " Accuracy_6_layers: 0.9761999845504761\n"
     ]
    }
   ],
   "source": [
    "def classification_model_6layers():\n",
    "    # create model\n",
    "    \n",
    "    model = Sequential()\n",
    "    model.add(Input(shape=(num_pixels,)))\n",
    "    model.add(Dense(num_pixels, activation='relu'))\n",
    "    model.add(Dense(100, activation='relu'))\n",
    "    model.add(Dense(100, activation='relu'))\n",
    "    model.add(Dense(100, activation='relu'))\n",
    "    model.add(Dense(100, activation='relu'))\n",
    "    model.add(Dense(num_classes, activation='softmax'))\n",
    "    \n",
    "    \n",
    "    # compile model\n",
    "    model.compile(optimizer='adam', loss='categorical_crossentropy', metrics=['accuracy'])\n",
    "    return model\n",
    "\n",
    "# build the model\n",
    "model_6layers = classification_model_6layers()\n",
    "\n",
    "# fit the model\n",
    "model_6layers.fit(X_train, y_train, validation_data=(X_test, y_test), epochs=10, verbose=2)\n",
    "\n",
    "# evaluate the model\n",
    "scores_6layers = model_6layers.evaluate(X_test, y_test, verbose=0)\n",
    "\n",
    "print('Accuracy_3_layers: {}% \\n Accuracy_6_layers: {}'.format(scores[1], scores_6layers[1]))   \n"
   ]
  }
 ],
 "metadata": {
  "kernelspec": {
   "display_name": "Python (tf_env)",
   "language": "python",
   "name": "tf_env"
  },
  "language_info": {
   "codemirror_mode": {
    "name": "ipython",
    "version": 3
   },
   "file_extension": ".py",
   "mimetype": "text/x-python",
   "name": "python",
   "nbconvert_exporter": "python",
   "pygments_lexer": "ipython3",
   "version": "3.12.0"
  }
 },
 "nbformat": 4,
 "nbformat_minor": 5
}
