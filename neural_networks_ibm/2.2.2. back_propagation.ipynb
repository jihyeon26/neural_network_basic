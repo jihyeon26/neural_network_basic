{
 "cells": [
  {
   "cell_type": "code",
   "execution_count": 1,
   "metadata": {},
   "outputs": [],
   "source": [
    "import numpy as np\n",
    "import matplotlib.pyplot as plt"
   ]
  },
  {
   "cell_type": "code",
   "execution_count": 2,
   "metadata": {},
   "outputs": [],
   "source": [
    "# Defining inputs and expected output (XOR truth table)\n",
    "X = np.array([[0, 0], [0, 1], [1, 0], [1, 1]]).T  # 2x4 matrix, each column is a training example\n",
    "d = np.array([0, 1, 1, 0])  # Expected output for XOR"
   ]
  },
  {
   "cell_type": "code",
   "execution_count": 3,
   "metadata": {},
   "outputs": [],
   "source": [
    "# Network parameters\n",
    "inputSize = 2     # Number of input neurons (x1, x2)\n",
    "hiddenSize = 2    # Number of hidden neurons\n",
    "outputSize = 1    # Number of output neurons\n",
    "lr = 0.1          # Learning rate\n",
    "epochs = 180000   # Number of training epochs"
   ]
  },
  {
   "cell_type": "code",
   "execution_count": 10,
   "metadata": {},
   "outputs": [],
   "source": [
    "# Initialize weights and biases randomly within the range [-1, 1]\n",
    "w1 = np.random.rand(hiddenSize, inputSize) * 2 - 1  # Weights from input to hidden layer\n",
    "b1 = np.random.rand(hiddenSize, 1) * 2 - 1         # Bias for hidden layer\n",
    "w2 = np.random.rand(outputSize, hiddenSize) * 2 - 1  # Weights from hidden to output layer\n",
    "b2 = np.random.rand(outputSize, 1) * 2 - 1         # Bias for output layer"
   ]
  },
  {
   "cell_type": "markdown",
   "metadata": {},
   "source": [
    "The neural network works in 5 stages: \n",
    "1. Forward pass\n",
    "    * The input **X** is multiplied by the weights **w1** and passed through the first layer, followed by the application of the sigmoid or ReLU activation function. This gives the output for the hidden layer.\n",
    "    * The output of the hidden layer is then passed through the second set of weights **w2** to compute the final output. Again, a sigmoid activation function is used to generate the final output **a2**.\n",
    "    \n",
    "2. Error calculation\n",
    "    * The error is computed as the difference between the expected output **(d)** and the actual output **(a2)**.\n",
    "3. Backward pass\n",
    "    * **Output Layer**: The derivative of the sigmoid activation function is applied to the error, producing the gradient for the output layer **(da2)**. This is used to calculate how much the weights in the output layer need to be adjusted.\n",
    "    * **Hidden Layer**: The error is then propagated backward to the hidden layer. The gradient at the hidden layer **(da1)** is computed by taking the dot product of the transpose of the weights **(w2.T)** and the gradient from the output layer. The derivative of the activation function (sigmoid or ReLU) is used to adjust this error.\n",
    "4. Weights and bias updates\n",
    "    * After computing the **gradients (dz1, dz2)**, the **weights (w1, w2)** and **biases (b1, b2)** are updated using the **learning rate (lr)** and **the gradients**. The updates are done to minimize the error and improve the model’s predictions.\n",
    "5. Training:\n",
    "    * This entire process is repeated over many iterations **(epochs)**. During each epoch, the model adjusts its weights and biases to reduce the error. Over time, the network learns to approximate the XOR function.\n",
    "Forward Pass:"
   ]
  },
  {
   "cell_type": "code",
   "execution_count": 5,
   "metadata": {},
   "outputs": [
    {
     "name": "stdout",
     "output_type": "stream",
     "text": [
      "Epoch: 9999, Average error: 0.06116\n",
      "Epoch: 19999, Average error: 0.03154\n",
      "Epoch: 29999, Average error: 0.02367\n",
      "Epoch: 39999, Average error: 0.01969\n",
      "Epoch: 49999, Average error: 0.01719\n",
      "Epoch: 59999, Average error: 0.01543\n",
      "Epoch: 69999, Average error: 0.01412\n",
      "Epoch: 79999, Average error: 0.01309\n",
      "Epoch: 89999, Average error: 0.01225\n",
      "Epoch: 99999, Average error: 0.01155\n",
      "Epoch: 109999, Average error: 0.01096\n",
      "Epoch: 119999, Average error: 0.01045\n",
      "Epoch: 129999, Average error: 0.01001\n",
      "Epoch: 139999, Average error: 0.00961\n",
      "Epoch: 149999, Average error: 0.00926\n",
      "Epoch: 159999, Average error: 0.00894\n",
      "Epoch: 169999, Average error: 0.00866\n",
      "Epoch: 179999, Average error: 0.00840\n"
     ]
    }
   ],
   "source": [
    "# Training the network using backpropagation\n",
    "error_list = []\n",
    "for epoch in range(epochs):\n",
    "    # Forward pass\n",
    "    z1 = np.dot(w1, X) + b1  # Weighted sum for hidden layer\n",
    "    a1 = 1 / (1 + np.exp(-z1))  # Sigmoid activation for hidden layer\n",
    "\n",
    "    z2 = np.dot(w2, a1) + b2  # Weighted sum for output layer\n",
    "    a2 = 1 / (1 + np.exp(-z2))  # Sigmoid activation for output layer\n",
    "\n",
    "    # Error calculation and backpropagation\n",
    "    error = d - a2  # Difference between expected and actual output\n",
    "    da2 = error * (a2 * (1 - a2))  # Derivative for output layer\n",
    "    dz2 = da2  # Gradient for output layer\n",
    "\n",
    "    # Propagate error to hidden layer\n",
    "    da1 = np.dot(w2.T, dz2)  # Gradient for hidden layer\n",
    "    dz1 = da1 * (a1 * (1 - a1))  # Derivative for hidden layer\n",
    "\n",
    "    # Update weights and biases\n",
    "    w2 += lr * np.dot(dz2, a1.T)  # Update weights from hidden to output layer\n",
    "    b2 += lr * np.sum(dz2, axis=1, keepdims=True)  # Update bias for output layer\n",
    "\n",
    "    w1 += lr * np.dot(dz1, X.T)  # Update weights from input to hidden layer\n",
    "    b1 += lr * np.sum(dz1, axis=1, keepdims=True)  # Update bias for hidden layer\n",
    "    if (epoch+1)%10000 == 0:\n",
    "        print(\"Epoch: %d, Average error: %0.05f\"%(epoch, np.average(abs(error))))\n",
    "        error_list.append(np.average(abs(error)))"
   ]
  },
  {
   "cell_type": "markdown",
   "metadata": {},
   "source": [
    "### Test: XOR"
   ]
  },
  {
   "cell_type": "code",
   "execution_count": 6,
   "metadata": {},
   "outputs": [
    {
     "name": "stdout",
     "output_type": "stream",
     "text": [
      "Final output after training: [[0.00837433 0.99200851 0.99035905 0.00758407]]\n",
      "Ground truth [0 1 1 0]\n",
      "Error after training: [[-0.00837436  0.00799151  0.00964098 -0.00758409]]\n",
      "Average error: 0.00840\n"
     ]
    }
   ],
   "source": [
    "# Testing the trained network\n",
    "z1 = np.dot(w1, X) + b1  # Weighted sum for hidden layer\n",
    "a1 = 1 / (1 + np.exp(-z1))  # Sigmoid activation for hidden layer\n",
    "\n",
    "z2 = np.dot(w2, a1) + b2  # Weighted sum for output layer\n",
    "a2 = 1 / (1 + np.exp(-z2))  # Sigmoid activation for output layer\n",
    "\n",
    "# Print results\n",
    "print('Final output after training:', a2)\n",
    "print('Ground truth', d)\n",
    "print('Error after training:', error)\n",
    "print('Average error: %0.05f'%np.average(abs(error)))\n"
   ]
  },
  {
   "cell_type": "code",
   "execution_count": 7,
   "metadata": {},
   "outputs": [
    {
     "data": {
      "image/png": "[encoded data removed]",
      "text/plain": [
       "<Figure size 640x480 with 1 Axes>"
      ]
     },
     "metadata": {},
     "output_type": "display_data"
    }
   ],
   "source": [
    "# Plot error\n",
    "plt.plot(error_list)\n",
    "plt.title('Error')\n",
    "plt.xlabel('Epochs')\n",
    "plt.ylabel('Error')\n",
    "plt.show()"
   ]
  },
  {
   "cell_type": "markdown",
   "metadata": {},
   "source": [
    "### Test: AND"
   ]
  },
  {
   "cell_type": "code",
   "execution_count": null,
   "metadata": {},
   "outputs": [
    {
     "name": "stdout",
     "output_type": "stream",
     "text": [
      "Epoch: 9999, Average error: 0.02691\n",
      "Epoch: 19999, Average error: 0.01703\n",
      "Epoch: 29999, Average error: 0.01329\n",
      "Epoch: 39999, Average error: 0.01120\n",
      "Epoch: 49999, Average error: 0.00984\n",
      "Epoch: 59999, Average error: 0.00886\n",
      "Epoch: 69999, Average error: 0.00812\n",
      "Epoch: 79999, Average error: 0.00753\n",
      "Epoch: 89999, Average error: 0.00705\n",
      "Epoch: 99999, Average error: 0.00665\n",
      "Epoch: 109999, Average error: 0.00630\n",
      "Epoch: 119999, Average error: 0.00601\n",
      "Epoch: 129999, Average error: 0.00575\n",
      "Epoch: 139999, Average error: 0.00552\n",
      "Epoch: 149999, Average error: 0.00531\n",
      "Epoch: 159999, Average error: 0.00513\n",
      "Epoch: 169999, Average error: 0.00496\n",
      "Epoch: 179999, Average error: 0.00481\n",
      "\n",
      "Final output after training: [[2.26224821e-04 4.95320597e-03 5.07228897e-03 9.91015767e-01]]\n",
      "Ground truth [0 0 0 1]\n",
      "Error after training: [[-0.00022623 -0.00495322 -0.0050723   0.00898426]]\n",
      "Average error: 0.00481\n"
     ]
    },
    {
     "data": {
      "image/png": "[encoded data removed]",
      "text/plain": [
       "<Figure size 640x480 with 1 Axes>"
      ]
     },
     "metadata": {},
     "output_type": "display_data"
    }
   ],
   "source": [
    "# 가중치 업데이트 안하고 실행하면 에러 발산함\n",
    "\n",
    "X = np.array([[0, 0], [0, 1], [1, 0], [1, 1]]).T  # 2x4 matrix, each column is a training example\n",
    "d = np.array([0, 0, 0, 1])  # Expected output for AND\n",
    "\n",
    "# Training the network using backpropagation\n",
    "error_list = []\n",
    "for epoch in range(epochs):\n",
    "    # Forward pass\n",
    "    z1 = np.dot(w1, X) + b1  # Weighted sum for hidden layer\n",
    "    a1 = 1 / (1 + np.exp(-z1))  # Sigmoid activation for hidden layer\n",
    "\n",
    "    z2 = np.dot(w2, a1) + b2  # Weighted sum for output layer\n",
    "    a2 = 1 / (1 + np.exp(-z2))  # Sigmoid activation for output layer\n",
    "\n",
    "    # Error calculation and backpropagation\n",
    "    error = d - a2  # Difference between expected and actual output\n",
    "    da2 = error * (a2 * (1 - a2))  # Derivative for output layer\n",
    "    dz2 = da2  # Gradient for output layer\n",
    "\n",
    "    # Propagate error to hidden layer\n",
    "    da1 = np.dot(w2.T, dz2)  # Gradient for hidden layer\n",
    "    dz1 = da1 * (a1 * (1 - a1))  # Derivative for hidden layer\n",
    "\n",
    "    # Update weights and biases\n",
    "    w2 += lr * np.dot(dz2, a1.T)  # Update weights from hidden to output layer\n",
    "    b2 += lr * np.sum(dz2, axis=1, keepdims=True)  # Update bias for output layer\n",
    "\n",
    "    w1 += lr * np.dot(dz1, X.T)  # Update weights from input to hidden layer\n",
    "    b1 += lr * np.sum(dz1, axis=1, keepdims=True)  # Update bias for hidden layer\n",
    "    if (epoch+1)%10000 == 0:\n",
    "        print(\"Epoch: %d, Average error: %0.05f\"%(epoch, np.average(abs(error))))\n",
    "        error_list.append(np.average(abs(error)))\n",
    "\n",
    "\n",
    "# Testing the trained network\n",
    "z1 = np.dot(w1, X) + b1  # Weighted sum for hidden layer\n",
    "a1 = 1 / (1 + np.exp(-z1))  # Sigmoid activation for hidden layer\n",
    "\n",
    "z2 = np.dot(w2, a1) + b2  # Weighted sum for output layer\n",
    "a2 = 1 / (1 + np.exp(-z2))  # Sigmoid activation for output layer\n",
    "\n",
    "# Print results\n",
    "print('\\nFinal output after training:', a2)\n",
    "print('Ground truth', d)\n",
    "print('Error after training:', error)\n",
    "print('Average error: %0.05f'%np.average(abs(error)))\n",
    "\n",
    "# Plot error\n",
    "plt.plot(error_list)\n",
    "plt.title('Error')\n",
    "plt.xlabel('Epochs')\n",
    "plt.ylabel('Error')\n",
    "plt.show()\n"
   ]
  },
  {
   "cell_type": "code",
   "execution_count": null,
   "metadata": {},
   "outputs": [],
   "source": []
  }
 ],
 "metadata": {
  "kernelspec": {
   "display_name": "Python 3",
   "language": "python",
   "name": "python3"
  },
  "language_info": {
   "codemirror_mode": {
    "name": "ipython",
    "version": 3
   },
   "file_extension": ".py",
   "mimetype": "text/x-python",
   "name": "python",
   "nbconvert_exporter": "python",
   "pygments_lexer": "ipython3",
   "version": "3.12.0"
  }
 },
 "nbformat": 4,
 "nbformat_minor": 2
}
