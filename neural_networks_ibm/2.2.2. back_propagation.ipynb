{
 "cells": [
  {
   "cell_type": "code",
   "execution_count": 1,
   "metadata": {},
   "outputs": [],
   "source": [
    "import numpy as np\n",
    "import matplotlib.pyplot as plt"
   ]
  },
  {
   "cell_type": "code",
   "execution_count": 2,
   "metadata": {},
   "outputs": [],
   "source": [
    "# Defining inputs and expected output (XOR truth table)\n",
    "X = np.array([[0, 0], [0, 1], [1, 0], [1, 1]]).T  # 2x4 matrix, each column is a training example\n",
    "d = np.array([0, 1, 1, 0])  # Expected output for XOR"
   ]
  },
  {
   "cell_type": "code",
   "execution_count": 3,
   "metadata": {},
   "outputs": [],
   "source": [
    "# Network parameters\n",
    "inputSize = 2     # Number of input neurons (x1, x2)\n",
    "hiddenSize = 2    # Number of hidden neurons\n",
    "outputSize = 1    # Number of output neurons\n",
    "lr = 0.1          # Learning rate\n",
    "epochs = 180000   # Number of training epochs"
   ]
  },
  {
   "cell_type": "code",
   "execution_count": 12,
   "metadata": {},
   "outputs": [],
   "source": [
    "# Initialize weights and biases randomly within the range [-1, 1]\n",
    "w1 = np.random.rand(hiddenSize, inputSize) * 2 - 1  # Weights from input to hidden layer\n",
    "b1 = np.random.rand(hiddenSize, 1) * 2 - 1         # Bias for hidden layer\n",
    "w2 = np.random.rand(outputSize, hiddenSize) * 2 - 1  # Weights from hidden to output layer\n",
    "b2 = np.random.rand(outputSize, 1) * 2 - 1         # Bias for output layer"
   ]
  },
  {
   "cell_type": "markdown",
   "metadata": {},
   "source": [
    "The neural network works in 5 stages: \n",
    "1. Forward pass\n",
    "    * The input **X** is multiplied by the weights **w1** and passed through the first layer, followed by the application of the sigmoid or ReLU activation function. This gives the output for the hidden layer.\n",
    "    * The output of the hidden layer is then passed through the second set of weights **w2** to compute the final output. Again, a sigmoid activation function is used to generate the final output **a2**.\n",
    "    \n",
    "2. Error calculation\n",
    "    * The error is computed as the difference between the expected output **(d)** and the actual output **(a2)**.\n",
    "3. Backward pass\n",
    "    * **Output Layer**: The derivative of the sigmoid activation function is applied to the error, producing the gradient for the output layer **(da2)**. This is used to calculate how much the weights in the output layer need to be adjusted.\n",
    "    * **Hidden Layer**: The error is then propagated backward to the hidden layer. The gradient at the hidden layer **(da1)** is computed by taking the dot product of the transpose of the weights **(w2.T)** and the gradient from the output layer. The derivative of the activation function (sigmoid or ReLU) is used to adjust this error.\n",
    "4. Weights and bias updates\n",
    "    * After computing the **gradients (dz1, dz2)**, the **weights (w1, w2)** and **biases (b1, b2)** are updated using the **learning rate (lr)** and **the gradients**. The updates are done to minimize the error and improve the model’s predictions.\n",
    "5. Training:\n",
    "    * This entire process is repeated over many iterations **(epochs)**. During each epoch, the model adjusts its weights and biases to reduce the error. Over time, the network learns to approximate the XOR function.\n",
    "Forward Pass:"
   ]
  },
  {
   "cell_type": "code",
   "execution_count": 5,
   "metadata": {},
   "outputs": [
    {
     "name": "stdout",
     "output_type": "stream",
     "text": [
      "Epoch: 9999, Average error: 0.06116\n",
      "Epoch: 19999, Average error: 0.03154\n",
      "Epoch: 29999, Average error: 0.02367\n",
      "Epoch: 39999, Average error: 0.01969\n",
      "Epoch: 49999, Average error: 0.01719\n",
      "Epoch: 59999, Average error: 0.01543\n",
      "Epoch: 69999, Average error: 0.01412\n",
      "Epoch: 79999, Average error: 0.01309\n",
      "Epoch: 89999, Average error: 0.01225\n",
      "Epoch: 99999, Average error: 0.01155\n",
      "Epoch: 109999, Average error: 0.01096\n",
      "Epoch: 119999, Average error: 0.01045\n",
      "Epoch: 129999, Average error: 0.01001\n",
      "Epoch: 139999, Average error: 0.00961\n",
      "Epoch: 149999, Average error: 0.00926\n",
      "Epoch: 159999, Average error: 0.00894\n",
      "Epoch: 169999, Average error: 0.00866\n",
      "Epoch: 179999, Average error: 0.00840\n"
     ]
    }
   ],
   "source": [
    "# Training the network using backpropagation\n",
    "error_list = []\n",
    "for epoch in range(epochs):\n",
    "    # Forward pass\n",
    "    z1 = np.dot(w1, X) + b1  # Weighted sum for hidden layer\n",
    "    a1 = 1 / (1 + np.exp(-z1))  # Sigmoid activation for hidden layer\n",
    "\n",
    "    z2 = np.dot(w2, a1) + b2  # Weighted sum for output layer\n",
    "    a2 = 1 / (1 + np.exp(-z2))  # Sigmoid activation for output layer\n",
    "\n",
    "    # Error calculation and backpropagation\n",
    "    error = d - a2  # Difference between expected and actual output\n",
    "    da2 = error * (a2 * (1 - a2))  # Derivative for output layer\n",
    "    dz2 = da2  # Gradient for output layer\n",
    "\n",
    "    # Propagate error to hidden layer\n",
    "    da1 = np.dot(w2.T, dz2)  # Gradient for hidden layer\n",
    "    dz1 = da1 * (a1 * (1 - a1))  # Derivative for hidden layer\n",
    "\n",
    "    # Update weights and biases\n",
    "    w2 += lr * np.dot(dz2, a1.T)  # Update weights from hidden to output layer\n",
    "    b2 += lr * np.sum(dz2, axis=1, keepdims=True)  # Update bias for output layer\n",
    "\n",
    "    w1 += lr * np.dot(dz1, X.T)  # Update weights from input to hidden layer\n",
    "    b1 += lr * np.sum(dz1, axis=1, keepdims=True)  # Update bias for hidden layer\n",
    "    if (epoch+1)%10000 == 0:\n",
    "        print(\"Epoch: %d, Average error: %0.05f\"%(epoch, np.average(abs(error))))\n",
    "        error_list.append(np.average(abs(error)))"
   ]
  },
  {
   "cell_type": "markdown",
   "metadata": {},
   "source": [
    "### Test: XOR"
   ]
  },
  {
   "cell_type": "code",
   "execution_count": 6,
   "metadata": {},
   "outputs": [
    {
     "name": "stdout",
     "output_type": "stream",
     "text": [
      "Final output after training: [[0.00837433 0.99200851 0.99035905 0.00758407]]\n",
      "Ground truth [0 1 1 0]\n",
      "Error after training: [[-0.00837436  0.00799151  0.00964098 -0.00758409]]\n",
      "Average error: 0.00840\n"
     ]
    }
   ],
   "source": [
    "# Testing the trained network\n",
    "z1 = np.dot(w1, X) + b1  # Weighted sum for hidden layer\n",
    "a1 = 1 / (1 + np.exp(-z1))  # Sigmoid activation for hidden layer\n",
    "\n",
    "z2 = np.dot(w2, a1) + b2  # Weighted sum for output layer\n",
    "a2 = 1 / (1 + np.exp(-z2))  # Sigmoid activation for output layer\n",
    "\n",
    "# Print results\n",
    "print('Final output after training:', a2)\n",
    "print('Ground truth', d)\n",
    "print('Error after training:', error)\n",
    "print('Average error: %0.05f'%np.average(abs(error)))\n"
   ]
  },
  {
   "cell_type": "code",
   "execution_count": 7,
   "metadata": {},
   "outputs": [
    {
     "data": {
      "image/png": "[encoded data removed]",
      "text/plain": [
       "<Figure size 640x480 with 1 Axes>"
      ]
     },
     "metadata": {},
     "output_type": "display_data"
    }
   ],
   "source": [
    "# Plot error\n",
    "plt.plot(error_list)\n",
    "plt.title('Error')\n",
    "plt.xlabel('Epochs')\n",
    "plt.ylabel('Error')\n",
    "plt.show()"
   ]
  },
  {
   "cell_type": "markdown",
   "metadata": {},
   "source": [
    "### Test: AND"
   ]
  },
  {
   "cell_type": "code",
   "execution_count": null,
   "metadata": {},
   "outputs": [
    {
     "name": "stdout",
     "output_type": "stream",
     "text": [
      "Epoch: 9999, Average error: 0.02691\n",
      "Epoch: 19999, Average error: 0.01703\n",
      "Epoch: 29999, Average error: 0.01329\n",
      "Epoch: 39999, Average error: 0.01120\n",
      "Epoch: 49999, Average error: 0.00984\n",
      "Epoch: 59999, Average error: 0.00886\n",
      "Epoch: 69999, Average error: 0.00812\n",
      "Epoch: 79999, Average error: 0.00753\n",
      "Epoch: 89999, Average error: 0.00705\n",
      "Epoch: 99999, Average error: 0.00665\n",
      "Epoch: 109999, Average error: 0.00630\n",
      "Epoch: 119999, Average error: 0.00601\n",
      "Epoch: 129999, Average error: 0.00575\n",
      "Epoch: 139999, Average error: 0.00552\n",
      "Epoch: 149999, Average error: 0.00531\n",
      "Epoch: 159999, Average error: 0.00513\n",
      "Epoch: 169999, Average error: 0.00496\n",
      "Epoch: 179999, Average error: 0.00481\n",
      "\n",
      "Final output after training: [[2.26224821e-04 4.95320597e-03 5.07228897e-03 9.91015767e-01]]\n",
      "Ground truth [0 0 0 1]\n",
      "Error after training: [[-0.00022623 -0.00495322 -0.0050723   0.00898426]]\n",
      "Average error: 0.00481\n"
     ]
    },
    {
     "data": {
      "image/png": "[encoded data removed]",
      "text/plain": [
       "<Figure size 640x480 with 1 Axes>"
      ]
     },
     "metadata": {},
     "output_type": "display_data"
    }
   ],
   "source": [
    "# 가중치 업데이트 안하고 실행하면 에러 발산함\n",
    "\n",
    "X = np.array([[0, 0], [0, 1], [1, 0], [1, 1]]).T  # 2x4 matrix, each column is a training example\n",
    "d = np.array([0, 0, 0, 1])  # Expected output for AND\n",
    "\n",
    "# Training the network using backpropagation\n",
    "error_list = []\n",
    "for epoch in range(epochs):\n",
    "    # Forward pass\n",
    "    z1 = np.dot(w1, X) + b1  # Weighted sum for hidden layer\n",
    "    a1 = 1 / (1 + np.exp(-z1))  # Sigmoid activation for hidden layer\n",
    "\n",
    "    z2 = np.dot(w2, a1) + b2  # Weighted sum for output layer\n",
    "    a2 = 1 / (1 + np.exp(-z2))  # Sigmoid activation for output layer\n",
    "\n",
    "    # Error calculation and backpropagation\n",
    "    error = d - a2  # Difference between expected and actual output\n",
    "    da2 = error * (a2 * (1 - a2))  # Derivative for output layer\n",
    "    dz2 = da2  # Gradient for output layer\n",
    "\n",
    "    # Propagate error to hidden layer\n",
    "    da1 = np.dot(w2.T, dz2)  # Gradient for hidden layer\n",
    "    dz1 = da1 * (a1 * (1 - a1))  # Derivative for hidden layer\n",
    "\n",
    "    # Update weights and biases\n",
    "    w2 += lr * np.dot(dz2, a1.T)  # Update weights from hidden to output layer\n",
    "    b2 += lr * np.sum(dz2, axis=1, keepdims=True)  # Update bias for output layer\n",
    "\n",
    "    w1 += lr * np.dot(dz1, X.T)  # Update weights from input to hidden layer\n",
    "    b1 += lr * np.sum(dz1, axis=1, keepdims=True)  # Update bias for hidden layer\n",
    "    if (epoch+1)%10000 == 0:\n",
    "        print(\"Epoch: %d, Average error: %0.05f\"%(epoch, np.average(abs(error))))\n",
    "        error_list.append(np.average(abs(error)))\n",
    "\n",
    "\n",
    "# Testing the trained network\n",
    "z1 = np.dot(w1, X) + b1  # Weighted sum for hidden layer\n",
    "a1 = 1 / (1 + np.exp(-z1))  # Sigmoid activation for hidden layer\n",
    "\n",
    "z2 = np.dot(w2, a1) + b2  # Weighted sum for output layer\n",
    "a2 = 1 / (1 + np.exp(-z2))  # Sigmoid activation for output layer\n",
    "\n",
    "# Print results\n",
    "print('\\nFinal output after training:', a2)\n",
    "print('Ground truth', d)\n",
    "print('Error after training:', error)\n",
    "print('Average error: %0.05f'%np.average(abs(error)))\n",
    "\n",
    "# Plot error\n",
    "plt.plot(error_list)\n",
    "plt.title('Error')\n",
    "plt.xlabel('Epochs')\n",
    "plt.ylabel('Error')\n",
    "plt.show()\n"
   ]
  },
  {
   "cell_type": "code",
   "execution_count": 13,
   "metadata": {},
   "outputs": [
    {
     "name": "stdout",
     "output_type": "stream",
     "text": [
      "Epoch: 9999, Average error: 0.49929\n",
      "Epoch: 19999, Average error: 0.49719\n",
      "Epoch: 29999, Average error: 0.47868\n",
      "Epoch: 39999, Average error: 0.41590\n",
      "Epoch: 49999, Average error: 0.35059\n",
      "Epoch: 59999, Average error: 0.16320\n",
      "Epoch: 69999, Average error: 0.10472\n",
      "Epoch: 79999, Average error: 0.08100\n",
      "Epoch: 89999, Average error: 0.06781\n",
      "Epoch: 99999, Average error: 0.05923\n",
      "Epoch: 109999, Average error: 0.05312\n",
      "Epoch: 119999, Average error: 0.04851\n",
      "Epoch: 129999, Average error: 0.04487\n",
      "Epoch: 139999, Average error: 0.04191\n",
      "Epoch: 149999, Average error: 0.03945\n",
      "Epoch: 159999, Average error: 0.03736\n",
      "Epoch: 169999, Average error: 0.03556\n",
      "Epoch: 179999, Average error: 0.03398\n",
      "Epoch: 189999, Average error: 0.03259\n",
      "Epoch: 199999, Average error: 0.03136\n",
      "Epoch: 209999, Average error: 0.03025\n",
      "Epoch: 219999, Average error: 0.02924\n",
      "Epoch: 229999, Average error: 0.02833\n",
      "Epoch: 239999, Average error: 0.02749\n",
      "Epoch: 249999, Average error: 0.02672\n",
      "Epoch: 259999, Average error: 0.02601\n",
      "Epoch: 269999, Average error: 0.02536\n",
      "Epoch: 279999, Average error: 0.02475\n",
      "Epoch: 289999, Average error: 0.02418\n",
      "Epoch: 299999, Average error: 0.02364\n",
      "Epoch: 309999, Average error: 0.02314\n",
      "Epoch: 319999, Average error: 0.02267\n",
      "Epoch: 329999, Average error: 0.02222\n",
      "Epoch: 339999, Average error: 0.02180\n",
      "Epoch: 349999, Average error: 0.02141\n",
      "Epoch: 359999, Average error: 0.02103\n",
      "Epoch: 369999, Average error: 0.02067\n",
      "Epoch: 379999, Average error: 0.02033\n",
      "Epoch: 389999, Average error: 0.02000\n",
      "Epoch: 399999, Average error: 0.01969\n",
      "Epoch: 409999, Average error: 0.01940\n",
      "Epoch: 419999, Average error: 0.01911\n",
      "Epoch: 429999, Average error: 0.01884\n",
      "Epoch: 439999, Average error: 0.01858\n",
      "Epoch: 449999, Average error: 0.01833\n",
      "Epoch: 459999, Average error: 0.01809\n",
      "Epoch: 469999, Average error: 0.01785\n",
      "Epoch: 479999, Average error: 0.01763\n",
      "Epoch: 489999, Average error: 0.01741\n",
      "Epoch: 499999, Average error: 0.01721\n",
      "Epoch: 509999, Average error: 0.01701\n",
      "Epoch: 519999, Average error: 0.01681\n",
      "Epoch: 529999, Average error: 0.01662\n",
      "Epoch: 539999, Average error: 0.01644\n",
      "Epoch: 549999, Average error: 0.01626\n",
      "Epoch: 559999, Average error: 0.01609\n",
      "Epoch: 569999, Average error: 0.01593\n",
      "Epoch: 579999, Average error: 0.01577\n",
      "Epoch: 589999, Average error: 0.01561\n",
      "Epoch: 599999, Average error: 0.01546\n",
      "Epoch: 609999, Average error: 0.01531\n",
      "Epoch: 619999, Average error: 0.01517\n",
      "Epoch: 629999, Average error: 0.01503\n",
      "Epoch: 639999, Average error: 0.01489\n",
      "Epoch: 649999, Average error: 0.01476\n",
      "Epoch: 659999, Average error: 0.01463\n",
      "Epoch: 669999, Average error: 0.01451\n",
      "Epoch: 679999, Average error: 0.01438\n",
      "Epoch: 689999, Average error: 0.01426\n",
      "Epoch: 699999, Average error: 0.01415\n",
      "Epoch: 709999, Average error: 0.01403\n",
      "Epoch: 719999, Average error: 0.01392\n",
      "Epoch: 729999, Average error: 0.01381\n",
      "Epoch: 739999, Average error: 0.01371\n",
      "Epoch: 749999, Average error: 0.01360\n",
      "Epoch: 759999, Average error: 0.01350\n",
      "Epoch: 769999, Average error: 0.01340\n",
      "Epoch: 779999, Average error: 0.01331\n",
      "Epoch: 789999, Average error: 0.01321\n",
      "Epoch: 799999, Average error: 0.01312\n",
      "Epoch: 809999, Average error: 0.01303\n",
      "Epoch: 819999, Average error: 0.01294\n",
      "Epoch: 829999, Average error: 0.01285\n",
      "Epoch: 839999, Average error: 0.01276\n",
      "Epoch: 849999, Average error: 0.01268\n",
      "Epoch: 859999, Average error: 0.01260\n",
      "Epoch: 869999, Average error: 0.01252\n",
      "Epoch: 879999, Average error: 0.01244\n",
      "Epoch: 889999, Average error: 0.01236\n",
      "Epoch: 899999, Average error: 0.01228\n",
      "Epoch: 909999, Average error: 0.01221\n",
      "Epoch: 919999, Average error: 0.01213\n",
      "Epoch: 929999, Average error: 0.01206\n",
      "Epoch: 939999, Average error: 0.01199\n",
      "Epoch: 949999, Average error: 0.01192\n",
      "Epoch: 959999, Average error: 0.01185\n",
      "Epoch: 969999, Average error: 0.01178\n",
      "Epoch: 979999, Average error: 0.01171\n",
      "Epoch: 989999, Average error: 0.01165\n",
      "Epoch: 999999, Average error: 0.01158\n",
      "\n",
      "Final output after training: [[0.01275301 0.98903026 0.98893156 0.01154396]]\n",
      "Ground truth [0 1 1 0]\n",
      "Error after training: [[-0.01275301  0.01096974  0.01106845 -0.01154397]]\n",
      "Average error: 0.01158\n"
     ]
    },
    {
     "data": {
      "image/png": "[encoded data removed]",
      "text/plain": [
       "<Figure size 640x480 with 1 Axes>"
      ]
     },
     "metadata": {},
     "output_type": "display_data"
    }
   ],
   "source": [
    "lr = 0.01         # Learning rate\n",
    "epochs = 1000000   # Number of training epochs\n",
    "\n",
    "\n",
    "# Defining inputs and expected output (XOR truth table)\n",
    "X = np.array([[0, 0], [0, 1], [1, 0], [1, 1]]).T  # 2x4 matrix, each column is a training example\n",
    "d = np.array([0, 1, 1, 0])  # Expected output for XOR\n",
    "\n",
    "\n",
    "# Training the network using backpropagation\n",
    "error_list = []\n",
    "for epoch in range(epochs):\n",
    "    # Forward pass\n",
    "    z1 = np.dot(w1, X) + b1  # Weighted sum for hidden layer\n",
    "    a1 = 1 / (1 + np.exp(-z1))  # Sigmoid activation for hidden layer\n",
    "\n",
    "    z2 = np.dot(w2, a1) + b2  # Weighted sum for output layer\n",
    "    a2 = 1 / (1 + np.exp(-z2))  # Sigmoid activation for output layer\n",
    "\n",
    "    # Error calculation and backpropagation\n",
    "    error = d - a2  # Difference between expected and actual output\n",
    "    da2 = error * (a2 * (1 - a2))  # Derivative for output layer\n",
    "    dz2 = da2  # Gradient for output layer\n",
    "\n",
    "    # Propagate error to hidden layer\n",
    "    da1 = np.dot(w2.T, dz2)  # Gradient for hidden layer\n",
    "    dz1 = da1 * (a1 * (1 - a1))  # Derivative for hidden layer\n",
    "\n",
    "    # Update weights and biases\n",
    "    w2 += lr * np.dot(dz2, a1.T)  # Update weights from hidden to output layer\n",
    "    b2 += lr * np.sum(dz2, axis=1, keepdims=True)  # Update bias for output layer\n",
    "\n",
    "    w1 += lr * np.dot(dz1, X.T)  # Update weights from input to hidden layer\n",
    "    b1 += lr * np.sum(dz1, axis=1, keepdims=True)  # Update bias for hidden layer\n",
    "    if (epoch+1)%10000 == 0:\n",
    "        print(\"Epoch: %d, Average error: %0.05f\"%(epoch, np.average(abs(error))))\n",
    "        error_list.append(np.average(abs(error)))\n",
    "\n",
    "\n",
    "# Testing the trained network\n",
    "z1 = np.dot(w1, X) + b1  # Weighted sum for hidden layer\n",
    "a1 = 1 / (1 + np.exp(-z1))  # Sigmoid activation for hidden layer\n",
    "\n",
    "z2 = np.dot(w2, a1) + b2  # Weighted sum for output layer\n",
    "a2 = 1 / (1 + np.exp(-z2))  # Sigmoid activation for output layer\n",
    "\n",
    "# Print results\n",
    "print('\\nFinal output after training:', a2)\n",
    "print('Ground truth', d)\n",
    "print('Error after training:', error)\n",
    "print('Average error: %0.05f'%np.average(abs(error)))\n",
    "\n",
    "\n",
    "# Plot error\n",
    "plt.plot(error_list)\n",
    "plt.title('Error')\n",
    "plt.xlabel('Epochs')\n",
    "plt.ylabel('Error')\n",
    "plt.show()"
   ]
  }
 ],
 "metadata": {
  "kernelspec": {
   "display_name": "Python 3",
   "language": "python",
   "name": "python3"
  },
  "language_info": {
   "codemirror_mode": {
    "name": "ipython",
    "version": 3
   },
   "file_extension": ".py",
   "mimetype": "text/x-python",
   "name": "python",
   "nbconvert_exporter": "python",
   "pygments_lexer": "ipython3",
   "version": "3.12.0"
  }
 },
 "nbformat": 4,
 "nbformat_minor": 2
}
