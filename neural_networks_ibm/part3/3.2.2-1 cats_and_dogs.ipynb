{
 "cells": [
  {
   "cell_type": "code",
   "execution_count": 3,
   "id": "ea769096",
   "metadata": {},
   "outputs": [
    {
     "name": "stdout",
     "output_type": "stream",
     "text": [
      "Collecting kagglehub\n",
      "  Downloading kagglehub-0.3.11-py3-none-any.whl.metadata (32 kB)\n",
      "Requirement already satisfied: packaging in c:\\users\\wldhg\\appdata\\roaming\\python\\python312\\site-packages (from kagglehub) (24.2)\n",
      "Requirement already satisfied: pyyaml in c:\\users\\wldhg\\appdata\\local\\programs\\python\\python312\\lib\\site-packages (from kagglehub) (6.0.2)\n",
      "Requirement already satisfied: requests in c:\\users\\wldhg\\appdata\\local\\programs\\python\\python312\\lib\\site-packages (from kagglehub) (2.32.3)\n",
      "Requirement already satisfied: tqdm in c:\\users\\wldhg\\appdata\\local\\programs\\python\\python312\\lib\\site-packages (from kagglehub) (4.67.1)\n",
      "Requirement already satisfied: charset-normalizer<4,>=2 in c:\\users\\wldhg\\appdata\\local\\programs\\python\\python312\\lib\\site-packages (from requests->kagglehub) (3.4.1)\n",
      "Requirement already satisfied: idna<4,>=2.5 in c:\\users\\wldhg\\appdata\\local\\programs\\python\\python312\\lib\\site-packages (from requests->kagglehub) (3.10)\n",
      "Requirement already satisfied: urllib3<3,>=1.21.1 in c:\\users\\wldhg\\appdata\\local\\programs\\python\\python312\\lib\\site-packages (from requests->kagglehub) (2.3.0)\n",
      "Requirement already satisfied: certifi>=2017.4.17 in c:\\users\\wldhg\\appdata\\local\\programs\\python\\python312\\lib\\site-packages (from requests->kagglehub) (2025.1.31)\n",
      "Requirement already satisfied: colorama in c:\\users\\wldhg\\appdata\\roaming\\python\\python312\\site-packages (from tqdm->kagglehub) (0.4.6)\n",
      "Downloading kagglehub-0.3.11-py3-none-any.whl (63 kB)\n",
      "Installing collected packages: kagglehub\n",
      "Successfully installed kagglehub-0.3.11\n",
      "Note: you may need to restart the kernel to use updated packages.\n"
     ]
    }
   ],
   "source": [
    "%pip install kagglehub\n"
   ]
  },
  {
   "cell_type": "markdown",
   "id": "e3c0fc16",
   "metadata": {},
   "source": [
    "### download the dataset"
   ]
  },
  {
   "cell_type": "code",
   "execution_count": null,
   "id": "c8d5f45a",
   "metadata": {},
   "outputs": [],
   "source": [
    "import os\n",
    "import shutil\n",
    "import kagglehub\n",
    "\n",
    "download_path = kagglehub.dataset_download(\"bhavikjikadara/dog-and-cat-classification-dataset\")\n",
    "\n",
    "base_path = os.path.join(os.getcwd(), \"cats_dogs_data\")  \n",
    "os.makedirs(base_path, exist_ok=True)\n",
    "\n",
    "original_cat_dir = os.path.join(download_path, \"PetImages\", \"Cat\")\n",
    "original_dog_dir = os.path.join(download_path, \"PetImages\", \"Dog\")\n",
    "\n",
    "cat_target = os.path.join(base_path, \"cats\")\n",
    "dog_target = os.path.join(base_path, \"dogs\")\n",
    "os.makedirs(cat_target, exist_ok=True)\n",
    "os.makedirs(dog_target, exist_ok=True)\n",
    "\n",
    "def copy_first_n_images(src_dir, dst_dir, n=50, file_ext=\".jpg\"):\n",
    "    files = sorted([f for f in os.listdir(src_dir) if f.endswith(file_ext)])\n",
    "    for f in files[:n]:\n",
    "        shutil.copy(os.path.join(src_dir, f), os.path.join(dst_dir, f))\n",
    "\n",
    "copy_first_n_images(original_cat_dir, cat_target, n=50)\n",
    "copy_first_n_images(original_dog_dir, dog_target, n=50)"
   ]
  },
  {
   "cell_type": "markdown",
   "id": "3ce2cfbf",
   "metadata": {},
   "source": [
    "### load dataset"
   ]
  },
  {
   "cell_type": "code",
   "execution_count": 8,
   "id": "b158cf77",
   "metadata": {},
   "outputs": [
    {
     "name": "stdout",
     "output_type": "stream",
     "text": [
      "Found 80 images belonging to 2 classes.\n",
      "Found 20 images belonging to 2 classes.\n"
     ]
    }
   ],
   "source": [
    "from tensorflow.keras.preprocessing.image import ImageDataGenerator\n",
    "\n",
    "# 데이터 증강 + 정규화\n",
    "datagen = ImageDataGenerator(\n",
    "    rescale=1./255,\n",
    "    validation_split=0.2\n",
    ")\n",
    "\n",
    "train_generator = datagen.flow_from_directory(\n",
    "    'cats_dogs_data',\n",
    "    target_size=(224, 224),\n",
    "    batch_size=16,\n",
    "    class_mode='binary',\n",
    "    subset='training'\n",
    ")\n",
    "\n",
    "val_generator = datagen.flow_from_directory(\n",
    "    'cats_dogs_data',\n",
    "    target_size=(224, 224),\n",
    "    batch_size=16,\n",
    "    class_mode='binary',\n",
    "    subset='validation'\n",
    ")\n"
   ]
  },
  {
   "cell_type": "markdown",
   "id": "b1011e0e",
   "metadata": {},
   "source": [
    "### Transfer learning: Resnet50"
   ]
  },
  {
   "cell_type": "code",
   "execution_count": 9,
   "id": "e2d6a569",
   "metadata": {},
   "outputs": [
    {
     "name": "stdout",
     "output_type": "stream",
     "text": [
      "Downloading data from https://storage.googleapis.com/tensorflow/keras-applications/resnet/resnet50_weights_tf_dim_ordering_tf_kernels_notop.h5\n",
      "\u001b[1m94765736/94765736\u001b[0m \u001b[32m━━━━━━━━━━━━━━━━━━━━\u001b[0m\u001b[37m\u001b[0m \u001b[1m23s\u001b[0m 0us/step\n"
     ]
    }
   ],
   "source": [
    "from tensorflow.keras.applications import ResNet50\n",
    "from tensorflow.keras.models import Model\n",
    "from tensorflow.keras.layers import Flatten, Dense\n",
    "from tensorflow.keras.optimizers import Adam\n",
    "\n",
    "# Load pre-trained ResNet50 \n",
    "base_model = ResNet50(weights='imagenet', include_top=False, input_shape=(224, 224, 3))\n",
    "base_model.trainable = False  \n",
    "\n",
    "x = Flatten()(base_model.output)\n",
    "x = Dense(256, activation='relu')(x)\n",
    "output = Dense(1, activation='sigmoid')(x)\n",
    "\n",
    "model = Model(inputs=base_model.input, outputs=output)\n"
   ]
  },
  {
   "cell_type": "code",
   "execution_count": 10,
   "id": "1b825939",
   "metadata": {},
   "outputs": [
    {
     "name": "stderr",
     "output_type": "stream",
     "text": [
      "c:\\Users\\wldhg\\AppData\\Local\\Programs\\Python\\Python312\\Lib\\site-packages\\keras\\src\\trainers\\data_adapters\\py_dataset_adapter.py:121: UserWarning: Your `PyDataset` class should call `super().__init__(**kwargs)` in its constructor. `**kwargs` can include `workers`, `use_multiprocessing`, `max_queue_size`. Do not pass these arguments to `fit()`, as they will be ignored.\n",
      "  self._warn_if_super_not_called()\n"
     ]
    },
    {
     "name": "stdout",
     "output_type": "stream",
     "text": [
      "Epoch 1/10\n",
      "\u001b[1m5/5\u001b[0m \u001b[32m━━━━━━━━━━━━━━━━━━━━\u001b[0m\u001b[37m\u001b[0m \u001b[1m9s\u001b[0m 1s/step - accuracy: 0.4898 - loss: 2.0087 - val_accuracy: 0.5000 - val_loss: 1.9151\n",
      "Epoch 2/10\n",
      "\u001b[1m5/5\u001b[0m \u001b[32m━━━━━━━━━━━━━━━━━━━━\u001b[0m\u001b[37m\u001b[0m \u001b[1m3s\u001b[0m 623ms/step - accuracy: 0.5170 - loss: 1.3542 - val_accuracy: 0.5000 - val_loss: 1.2389\n",
      "Epoch 3/10\n",
      "\u001b[1m5/5\u001b[0m \u001b[32m━━━━━━━━━━━━━━━━━━━━\u001b[0m\u001b[37m\u001b[0m \u001b[1m3s\u001b[0m 628ms/step - accuracy: 0.4132 - loss: 1.1495 - val_accuracy: 0.5000 - val_loss: 0.7986\n",
      "Epoch 4/10\n",
      "\u001b[1m5/5\u001b[0m \u001b[32m━━━━━━━━━━━━━━━━━━━━\u001b[0m\u001b[37m\u001b[0m \u001b[1m3s\u001b[0m 696ms/step - accuracy: 0.5089 - loss: 0.7011 - val_accuracy: 0.6000 - val_loss: 0.7006\n",
      "Epoch 5/10\n",
      "\u001b[1m5/5\u001b[0m \u001b[32m━━━━━━━━━━━━━━━━━━━━\u001b[0m\u001b[37m\u001b[0m \u001b[1m4s\u001b[0m 901ms/step - accuracy: 0.5288 - loss: 0.7616 - val_accuracy: 0.6000 - val_loss: 0.6814\n",
      "Epoch 6/10\n",
      "\u001b[1m5/5\u001b[0m \u001b[32m━━━━━━━━━━━━━━━━━━━━\u001b[0m\u001b[37m\u001b[0m \u001b[1m4s\u001b[0m 883ms/step - accuracy: 0.6898 - loss: 0.6604 - val_accuracy: 0.6500 - val_loss: 0.6538\n",
      "Epoch 7/10\n",
      "\u001b[1m5/5\u001b[0m \u001b[32m━━━━━━━━━━━━━━━━━━━━\u001b[0m\u001b[37m\u001b[0m \u001b[1m4s\u001b[0m 844ms/step - accuracy: 0.6726 - loss: 0.5447 - val_accuracy: 0.6000 - val_loss: 0.7020\n",
      "Epoch 8/10\n",
      "\u001b[1m5/5\u001b[0m \u001b[32m━━━━━━━━━━━━━━━━━━━━\u001b[0m\u001b[37m\u001b[0m \u001b[1m4s\u001b[0m 848ms/step - accuracy: 0.7061 - loss: 0.5531 - val_accuracy: 0.6000 - val_loss: 0.6505\n",
      "Epoch 9/10\n",
      "\u001b[1m5/5\u001b[0m \u001b[32m━━━━━━━━━━━━━━━━━━━━\u001b[0m\u001b[37m\u001b[0m \u001b[1m4s\u001b[0m 847ms/step - accuracy: 0.7257 - loss: 0.4862 - val_accuracy: 0.6000 - val_loss: 0.6576\n",
      "Epoch 10/10\n",
      "\u001b[1m5/5\u001b[0m \u001b[32m━━━━━━━━━━━━━━━━━━━━\u001b[0m\u001b[37m\u001b[0m \u001b[1m4s\u001b[0m 830ms/step - accuracy: 0.7142 - loss: 0.4947 - val_accuracy: 0.6000 - val_loss: 0.6718\n"
     ]
    }
   ],
   "source": [
    "model.compile(\n",
    "    optimizer=Adam(learning_rate=1e-4),\n",
    "    loss='binary_crossentropy',\n",
    "    metrics=['accuracy']\n",
    ")\n",
    "\n",
    "history = model.fit(\n",
    "    train_generator,\n",
    "    validation_data=val_generator,\n",
    "    epochs=10\n",
    ")\n"
   ]
  },
  {
   "cell_type": "code",
   "execution_count": 11,
   "id": "4f7d62ec",
   "metadata": {},
   "outputs": [
    {
     "data": {
      "image/png": "[encoded data removed]",
      "text/plain": [
       "<Figure size 640x480 with 1 Axes>"
      ]
     },
     "metadata": {},
     "output_type": "display_data"
    }
   ],
   "source": [
    "import matplotlib.pyplot as plt\n",
    "\n",
    "plt.plot(history.history['accuracy'], label='Train Accuracy')\n",
    "plt.plot(history.history['val_accuracy'], label='Validation Accuracy')\n",
    "plt.legend()\n",
    "plt.title('Accuracy Over Epochs')\n",
    "plt.show()\n"
   ]
  },
  {
   "cell_type": "markdown",
   "id": "0fe1132e",
   "metadata": {},
   "source": [
    "### Fine-tuning"
   ]
  },
  {
   "cell_type": "code",
   "execution_count": 12,
   "id": "d9ed81f4",
   "metadata": {},
   "outputs": [
    {
     "name": "stdout",
     "output_type": "stream",
     "text": [
      "Epoch 1/5\n",
      "\u001b[1m5/5\u001b[0m \u001b[32m━━━━━━━━━━━━━━━━━━━━\u001b[0m\u001b[37m\u001b[0m \u001b[1m9s\u001b[0m 1s/step - accuracy: 0.5979 - loss: 0.8154 - val_accuracy: 0.5000 - val_loss: 1.0413\n",
      "Epoch 2/5\n",
      "\u001b[1m5/5\u001b[0m \u001b[32m━━━━━━━━━━━━━━━━━━━━\u001b[0m\u001b[37m\u001b[0m \u001b[1m3s\u001b[0m 667ms/step - accuracy: 0.7326 - loss: 0.6273 - val_accuracy: 0.5000 - val_loss: 0.9335\n",
      "Epoch 3/5\n",
      "\u001b[1m5/5\u001b[0m \u001b[32m━━━━━━━━━━━━━━━━━━━━\u001b[0m\u001b[37m\u001b[0m \u001b[1m4s\u001b[0m 731ms/step - accuracy: 0.7922 - loss: 0.4826 - val_accuracy: 0.5000 - val_loss: 0.7568\n",
      "Epoch 4/5\n",
      "\u001b[1m5/5\u001b[0m \u001b[32m━━━━━━━━━━━━━━━━━━━━\u001b[0m\u001b[37m\u001b[0m \u001b[1m4s\u001b[0m 866ms/step - accuracy: 0.6950 - loss: 0.4781 - val_accuracy: 0.5000 - val_loss: 0.7459\n",
      "Epoch 5/5\n",
      "\u001b[1m5/5\u001b[0m \u001b[32m━━━━━━━━━━━━━━━━━━━━\u001b[0m\u001b[37m\u001b[0m \u001b[1m4s\u001b[0m 897ms/step - accuracy: 0.6759 - loss: 0.4895 - val_accuracy: 0.5000 - val_loss: 0.8438\n"
     ]
    },
    {
     "data": {
      "text/plain": [
       "<keras.src.callbacks.history.History at 0x21287550230>"
      ]
     },
     "execution_count": 12,
     "metadata": {},
     "output_type": "execute_result"
    }
   ],
   "source": [
    "base_model.trainable = True\n",
    "for layer in base_model.layers[:-4]:\n",
    "    layer.trainable = False\n",
    "\n",
    "# re-compile and training\n",
    "model.compile(optimizer=Adam(learning_rate=1e-5),\n",
    "              loss='binary_crossentropy',\n",
    "              metrics=['accuracy'])\n",
    "\n",
    "model.fit(train_generator, validation_data=val_generator, epochs=5)\n"
   ]
  },
  {
   "cell_type": "markdown",
   "id": "3f5bc6e1",
   "metadata": {},
   "source": [
    "###  Accuracy Output"
   ]
  },
  {
   "cell_type": "code",
   "execution_count": null,
   "id": "e5ec37f8",
   "metadata": {},
   "outputs": [
    {
     "name": "stdout",
     "output_type": "stream",
     "text": [
      "\u001b[1m2/2\u001b[0m \u001b[32m━━━━━━━━━━━━━━━━━━━━\u001b[0m\u001b[37m\u001b[0m \u001b[1m1s\u001b[0m 177ms/step - accuracy: 0.5208 - loss: 0.8151\n",
      "✅ Validation Accuracy: 50.00%\n"
     ]
    }
   ],
   "source": [
    "# Check accuracy based on validation dataset\n",
    "loss, accuracy = model.evaluate(val_generator)\n",
    "print(f\"✅ Validation Accuracy: {accuracy * 100:.2f}%\")\n"
   ]
  },
  {
   "cell_type": "markdown",
   "id": "293dca44",
   "metadata": {},
   "source": [
    "### Predict New Image"
   ]
  },
  {
   "cell_type": "code",
   "execution_count": 16,
   "id": "e66df6a0",
   "metadata": {},
   "outputs": [
    {
     "name": "stdout",
     "output_type": "stream",
     "text": [
      "\u001b[1m1/1\u001b[0m \u001b[32m━━━━━━━━━━━━━━━━━━━━\u001b[0m\u001b[37m\u001b[0m \u001b[1m1s\u001b[0m 1s/step\n",
      "Prediction: Cat (0.27)\n",
      "\u001b[1m1/1\u001b[0m \u001b[32m━━━━━━━━━━━━━━━━━━━━\u001b[0m\u001b[37m\u001b[0m \u001b[1m0s\u001b[0m 85ms/step\n",
      "Prediction: Cat (0.29)\n"
     ]
    }
   ],
   "source": [
    "import numpy as np\n",
    "from tensorflow.keras.preprocessing import image\n",
    "\n",
    "def predict_image(img_path):\n",
    "    # Load and resize image to match the model's input shape\n",
    "    img = image.load_img(img_path, target_size=(224, 224))\n",
    "\n",
    "    # Convert the image to a numpy array and normalize pixel values\n",
    "    img_array = image.img_to_array(img) / 255.0\n",
    "\n",
    "    # Add batch dimension (1, 224, 224, 3)\n",
    "    img_array = np.expand_dims(img_array, axis=0)\n",
    "\n",
    "    # Make prediction\n",
    "    prediction = model.predict(img_array)[0][0]\n",
    "\n",
    "    # Interpret prediction result\n",
    "    if prediction >= 0.5:\n",
    "        print(f\"Prediction: Dog ({prediction:.2f})\")\n",
    "    else:\n",
    "        print(f\"Prediction: Cat ({prediction:.2f})\")\n",
    "\n",
    "# Example usage: predict two images\n",
    "predict_image('cats_dogs_data/test/cat.jpg')\n",
    "predict_image('cats_dogs_data/test/dog.jpg')\n"
   ]
  }
 ],
 "metadata": {
  "kernelspec": {
   "display_name": "Python (tf_env)",
   "language": "python",
   "name": "tf_env"
  },
  "language_info": {
   "codemirror_mode": {
    "name": "ipython",
    "version": 3
   },
   "file_extension": ".py",
   "mimetype": "text/x-python",
   "name": "python",
   "nbconvert_exporter": "python",
   "pygments_lexer": "ipython3",
   "version": "3.12.0"
  }
 },
 "nbformat": 4,
 "nbformat_minor": 5
}
