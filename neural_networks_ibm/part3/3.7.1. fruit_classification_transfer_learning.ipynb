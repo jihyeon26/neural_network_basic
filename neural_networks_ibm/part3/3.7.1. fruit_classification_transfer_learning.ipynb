{
 "cells": [
  {
   "cell_type": "markdown",
   "id": "0306a334",
   "metadata": {},
   "source": [
    "## Fruit Classification Using Transfer Learning"
   ]
  },
  {
   "cell_type": "code",
   "execution_count": 1,
   "id": "c80c8f53",
   "metadata": {},
   "outputs": [],
   "source": [
    "import warnings\n",
    "warnings.filterwarnings(\"ignore\", category=UserWarning, module=\"keras.src.trainers.data_adapters.py_dataset_adapter\")\n",
    "warnings.filterwarnings(\"ignore\", category=UserWarning, module=\"keras.src.trainers.epoch_iterator\")\n",
    "\n",
    "import os\n",
    "os.environ['TF_CPP_MIN_LOG_LEVEL'] = '2'  # Suppress all warnings and info messages\n"
   ]
  },
  {
   "cell_type": "markdown",
   "id": "ca08cbfd",
   "metadata": {},
   "source": [
    "- Task 1: Import necessary libraries and set dataset paths\n",
    "- Task 2: Set up data generators for training, validation, and testing with augmentation\n",
    "- Task 3: Define the VGG16-based model architecture with custom layers\n",
    "- Task 4: Compile the model with appropriate loss and optimizer\n",
    "- Task 5: Train the model with early stopping and learning rate scheduling\n",
    "- Task 6: Fine-tune the model by unfreezing specific layers in VGG16\n",
    "- Task 7: Evaluate the model on the test set and display accuracy\n",
    "- Task 8: Visualize training performance with accuracy and loss curves\n",
    "- Task 9: Test model predictions on sample images and visualize results"
   ]
  },
  {
   "cell_type": "code",
   "execution_count": null,
   "id": "60852d34",
   "metadata": {},
   "outputs": [],
   "source": []
  }
 ],
 "metadata": {
  "kernelspec": {
   "display_name": "rl-env",
   "language": "python",
   "name": "python3"
  },
  "language_info": {
   "codemirror_mode": {
    "name": "ipython",
    "version": 3
   },
   "file_extension": ".py",
   "mimetype": "text/x-python",
   "name": "python",
   "nbconvert_exporter": "python",
   "pygments_lexer": "ipython3",
   "version": "3.11.0"
  }
 },
 "nbformat": 4,
 "nbformat_minor": 5
}
